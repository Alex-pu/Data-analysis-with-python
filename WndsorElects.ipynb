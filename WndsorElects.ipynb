{
  "nbformat": 4,
  "nbformat_minor": 0,
  "metadata": {
    "colab": {
      "provenance": [],
      "authorship_tag": "ABX9TyN4GHc0nOalTcbVFJDeOBfK",
      "include_colab_link": true
    },
    "kernelspec": {
      "name": "python3",
      "display_name": "Python 3"
    },
    "language_info": {
      "name": "python"
    }
  },
  "cells": [
    {
      "cell_type": "markdown",
      "metadata": {
        "id": "view-in-github",
        "colab_type": "text"
      },
      "source": [
        "<a href=\"https://colab.research.google.com/github/Alex-pu/Data-analysis-with-python/blob/main/WndsorElects.ipynb\" target=\"_parent\"><img src=\"https://colab.research.google.com/assets/colab-badge.svg\" alt=\"Open In Colab\"/></a>"
      ]
    },
    {
      "cell_type": "code",
      "execution_count": null,
      "metadata": {
        "id": "MtYCE7OeS4yL"
      },
      "outputs": [],
      "source": [
        "#defining in python\n",
        "c= 3\n",
        "d=7.9\n",
        "e=\"Windsor City Election Results\"\n",
        "f= True\n",
        "g= 2023-1-16"
      ]
    },
    {
      "cell_type": "code",
      "source": [
        "#changing date to date type(not automatic in python)\n",
        "import datetime\n",
        "g =datetime.datetime(2023,1,16)\n",
        "type(e)\n"
      ],
      "metadata": {
        "colab": {
          "base_uri": "https://localhost:8080/"
        },
        "id": "BkFFS4qrTKFV",
        "outputId": "ab3d806d-672c-4eec-ad3a-9feab14f782a"
      },
      "execution_count": null,
      "outputs": [
        {
          "output_type": "execute_result",
          "data": {
            "text/plain": [
              "str"
            ]
          },
          "metadata": {},
          "execution_count": 11
        }
      ]
    },
    {
      "cell_type": "code",
      "source": [
        "print(g)"
      ],
      "metadata": {
        "colab": {
          "base_uri": "https://localhost:8080/"
        },
        "id": "Rotxk8-YVExF",
        "outputId": "2b034757-196f-4a7d-87d1-f93369176362"
      },
      "execution_count": null,
      "outputs": [
        {
          "output_type": "stream",
          "name": "stdout",
          "text": [
            "2023-01-16 00:00:00\n"
          ]
        }
      ]
    },
    {
      "cell_type": "code",
      "source": [
        "#important libraries used in this program\n",
        "import pandas as pd\n",
        "import numpy as np\n",
        "import matplotlib.pyplot as plt"
      ],
      "metadata": {
        "id": "GyeeVeBCVl0E"
      },
      "execution_count": null,
      "outputs": []
    },
    {
      "cell_type": "markdown",
      "source": [
        "**importinf files to the nootebook(jupyter,colab)**"
      ],
      "metadata": {
        "id": "SxMj8MSZgbtd"
      }
    },
    {
      "cell_type": "markdown",
      "source": [
        "**Results. Who won the windsor**"
      ],
      "metadata": {
        "id": "o4sCcCL_VmWl"
      }
    },
    {
      "cell_type": "code",
      "source": [
        "dataframe= pd.read_csv('https://opendata.citywindsor.ca/Uploads/detailedresults-2018.csv', encoding='unicode_escape')\n"
      ],
      "metadata": {
        "id": "UXcbm5myW0oQ"
      },
      "execution_count": null,
      "outputs": []
    },
    {
      "cell_type": "code",
      "source": [
        "#name of the dataframe\n",
        "type(dataframe)"
      ],
      "metadata": {
        "colab": {
          "base_uri": "https://localhost:8080/"
        },
        "id": "DuO6m8SRYdH-",
        "outputId": "fd259fc9-833c-4885-b99e-5ffd321e28ab"
      },
      "execution_count": null,
      "outputs": [
        {
          "output_type": "execute_result",
          "data": {
            "text/plain": [
              "pandas.core.frame.DataFrame"
            ]
          },
          "metadata": {},
          "execution_count": 17
        }
      ]
    },
    {
      "cell_type": "code",
      "source": [
        "#size\n",
        "dataframe.shape"
      ],
      "metadata": {
        "colab": {
          "base_uri": "https://localhost:8080/"
        },
        "id": "aGjuXY0oY871",
        "outputId": "5a209b68-8d57-4d06-e919-b9bc2648cedf"
      },
      "execution_count": null,
      "outputs": [
        {
          "output_type": "execute_result",
          "data": {
            "text/plain": [
              "(3057, 6)"
            ]
          },
          "metadata": {},
          "execution_count": 18
        }
      ]
    },
    {
      "cell_type": "code",
      "source": [
        "#a rough vie of the data(remeber its 3057 rows), so the first ten rows.Python indexng strats at 0\n",
        "dataframe.head(10)"
      ],
      "metadata": {
        "colab": {
          "base_uri": "https://localhost:8080/",
          "height": 363
        },
        "id": "naA8dRTlZBbm",
        "outputId": "6ad10040-b4df-4d5a-fb00-80e2484db7f4"
      },
      "execution_count": null,
      "outputs": [
        {
          "output_type": "execute_result",
          "data": {
            "text/plain": [
              "  Ward Poll                                          Poll Name Contest Title  \\\n",
              "0    1    1  1-1 Harvest Bible Chapel (formerly Southwood C...         MAYOR   \n",
              "1    1    1  1-1 Harvest Bible Chapel (formerly Southwood C...         MAYOR   \n",
              "2    1    1  1-1 Harvest Bible Chapel (formerly Southwood C...         MAYOR   \n",
              "3    1    1  1-1 Harvest Bible Chapel (formerly Southwood C...         MAYOR   \n",
              "4    1    1  1-1 Harvest Bible Chapel (formerly Southwood C...         MAYOR   \n",
              "5    1    2  1-2 Capri Pizzeria Recreational Complex (forme...         MAYOR   \n",
              "6    1    2  1-2 Capri Pizzeria Recreational Complex (forme...         MAYOR   \n",
              "7    1    2  1-2 Capri Pizzeria Recreational Complex (forme...         MAYOR   \n",
              "8    1    2  1-2 Capri Pizzeria Recreational Complex (forme...         MAYOR   \n",
              "9    1    2  1-2 Capri Pizzeria Recreational Complex (forme...         MAYOR   \n",
              "\n",
              "       Candidate Name  Total  \n",
              "0        Drew DILKENS    312  \n",
              "1        Ernie LAMONT      9  \n",
              "2  Franz (Frank) DYCK     10  \n",
              "3       Matt MARCHAND    159  \n",
              "4          Tom HENSEL      7  \n",
              "5        Drew DILKENS    458  \n",
              "6        Ernie LAMONT      8  \n",
              "7  Franz (Frank) DYCK      9  \n",
              "8       Matt MARCHAND    205  \n",
              "9          Tom HENSEL      2  "
            ],
            "text/html": [
              "\n",
              "  <div id=\"df-e10d9684-f598-4281-8e91-95b6f903ed0b\">\n",
              "    <div class=\"colab-df-container\">\n",
              "      <div>\n",
              "<style scoped>\n",
              "    .dataframe tbody tr th:only-of-type {\n",
              "        vertical-align: middle;\n",
              "    }\n",
              "\n",
              "    .dataframe tbody tr th {\n",
              "        vertical-align: top;\n",
              "    }\n",
              "\n",
              "    .dataframe thead th {\n",
              "        text-align: right;\n",
              "    }\n",
              "</style>\n",
              "<table border=\"1\" class=\"dataframe\">\n",
              "  <thead>\n",
              "    <tr style=\"text-align: right;\">\n",
              "      <th></th>\n",
              "      <th>Ward</th>\n",
              "      <th>Poll</th>\n",
              "      <th>Poll Name</th>\n",
              "      <th>Contest Title</th>\n",
              "      <th>Candidate Name</th>\n",
              "      <th>Total</th>\n",
              "    </tr>\n",
              "  </thead>\n",
              "  <tbody>\n",
              "    <tr>\n",
              "      <th>0</th>\n",
              "      <td>1</td>\n",
              "      <td>1</td>\n",
              "      <td>1-1 Harvest Bible Chapel (formerly Southwood C...</td>\n",
              "      <td>MAYOR</td>\n",
              "      <td>Drew DILKENS</td>\n",
              "      <td>312</td>\n",
              "    </tr>\n",
              "    <tr>\n",
              "      <th>1</th>\n",
              "      <td>1</td>\n",
              "      <td>1</td>\n",
              "      <td>1-1 Harvest Bible Chapel (formerly Southwood C...</td>\n",
              "      <td>MAYOR</td>\n",
              "      <td>Ernie LAMONT</td>\n",
              "      <td>9</td>\n",
              "    </tr>\n",
              "    <tr>\n",
              "      <th>2</th>\n",
              "      <td>1</td>\n",
              "      <td>1</td>\n",
              "      <td>1-1 Harvest Bible Chapel (formerly Southwood C...</td>\n",
              "      <td>MAYOR</td>\n",
              "      <td>Franz (Frank) DYCK</td>\n",
              "      <td>10</td>\n",
              "    </tr>\n",
              "    <tr>\n",
              "      <th>3</th>\n",
              "      <td>1</td>\n",
              "      <td>1</td>\n",
              "      <td>1-1 Harvest Bible Chapel (formerly Southwood C...</td>\n",
              "      <td>MAYOR</td>\n",
              "      <td>Matt MARCHAND</td>\n",
              "      <td>159</td>\n",
              "    </tr>\n",
              "    <tr>\n",
              "      <th>4</th>\n",
              "      <td>1</td>\n",
              "      <td>1</td>\n",
              "      <td>1-1 Harvest Bible Chapel (formerly Southwood C...</td>\n",
              "      <td>MAYOR</td>\n",
              "      <td>Tom HENSEL</td>\n",
              "      <td>7</td>\n",
              "    </tr>\n",
              "    <tr>\n",
              "      <th>5</th>\n",
              "      <td>1</td>\n",
              "      <td>2</td>\n",
              "      <td>1-2 Capri Pizzeria Recreational Complex (forme...</td>\n",
              "      <td>MAYOR</td>\n",
              "      <td>Drew DILKENS</td>\n",
              "      <td>458</td>\n",
              "    </tr>\n",
              "    <tr>\n",
              "      <th>6</th>\n",
              "      <td>1</td>\n",
              "      <td>2</td>\n",
              "      <td>1-2 Capri Pizzeria Recreational Complex (forme...</td>\n",
              "      <td>MAYOR</td>\n",
              "      <td>Ernie LAMONT</td>\n",
              "      <td>8</td>\n",
              "    </tr>\n",
              "    <tr>\n",
              "      <th>7</th>\n",
              "      <td>1</td>\n",
              "      <td>2</td>\n",
              "      <td>1-2 Capri Pizzeria Recreational Complex (forme...</td>\n",
              "      <td>MAYOR</td>\n",
              "      <td>Franz (Frank) DYCK</td>\n",
              "      <td>9</td>\n",
              "    </tr>\n",
              "    <tr>\n",
              "      <th>8</th>\n",
              "      <td>1</td>\n",
              "      <td>2</td>\n",
              "      <td>1-2 Capri Pizzeria Recreational Complex (forme...</td>\n",
              "      <td>MAYOR</td>\n",
              "      <td>Matt MARCHAND</td>\n",
              "      <td>205</td>\n",
              "    </tr>\n",
              "    <tr>\n",
              "      <th>9</th>\n",
              "      <td>1</td>\n",
              "      <td>2</td>\n",
              "      <td>1-2 Capri Pizzeria Recreational Complex (forme...</td>\n",
              "      <td>MAYOR</td>\n",
              "      <td>Tom HENSEL</td>\n",
              "      <td>2</td>\n",
              "    </tr>\n",
              "  </tbody>\n",
              "</table>\n",
              "</div>\n",
              "      <button class=\"colab-df-convert\" onclick=\"convertToInteractive('df-e10d9684-f598-4281-8e91-95b6f903ed0b')\"\n",
              "              title=\"Convert this dataframe to an interactive table.\"\n",
              "              style=\"display:none;\">\n",
              "        \n",
              "  <svg xmlns=\"http://www.w3.org/2000/svg\" height=\"24px\"viewBox=\"0 0 24 24\"\n",
              "       width=\"24px\">\n",
              "    <path d=\"M0 0h24v24H0V0z\" fill=\"none\"/>\n",
              "    <path d=\"M18.56 5.44l.94 2.06.94-2.06 2.06-.94-2.06-.94-.94-2.06-.94 2.06-2.06.94zm-11 1L8.5 8.5l.94-2.06 2.06-.94-2.06-.94L8.5 2.5l-.94 2.06-2.06.94zm10 10l.94 2.06.94-2.06 2.06-.94-2.06-.94-.94-2.06-.94 2.06-2.06.94z\"/><path d=\"M17.41 7.96l-1.37-1.37c-.4-.4-.92-.59-1.43-.59-.52 0-1.04.2-1.43.59L10.3 9.45l-7.72 7.72c-.78.78-.78 2.05 0 2.83L4 21.41c.39.39.9.59 1.41.59.51 0 1.02-.2 1.41-.59l7.78-7.78 2.81-2.81c.8-.78.8-2.07 0-2.86zM5.41 20L4 18.59l7.72-7.72 1.47 1.35L5.41 20z\"/>\n",
              "  </svg>\n",
              "      </button>\n",
              "      \n",
              "  <style>\n",
              "    .colab-df-container {\n",
              "      display:flex;\n",
              "      flex-wrap:wrap;\n",
              "      gap: 12px;\n",
              "    }\n",
              "\n",
              "    .colab-df-convert {\n",
              "      background-color: #E8F0FE;\n",
              "      border: none;\n",
              "      border-radius: 50%;\n",
              "      cursor: pointer;\n",
              "      display: none;\n",
              "      fill: #1967D2;\n",
              "      height: 32px;\n",
              "      padding: 0 0 0 0;\n",
              "      width: 32px;\n",
              "    }\n",
              "\n",
              "    .colab-df-convert:hover {\n",
              "      background-color: #E2EBFA;\n",
              "      box-shadow: 0px 1px 2px rgba(60, 64, 67, 0.3), 0px 1px 3px 1px rgba(60, 64, 67, 0.15);\n",
              "      fill: #174EA6;\n",
              "    }\n",
              "\n",
              "    [theme=dark] .colab-df-convert {\n",
              "      background-color: #3B4455;\n",
              "      fill: #D2E3FC;\n",
              "    }\n",
              "\n",
              "    [theme=dark] .colab-df-convert:hover {\n",
              "      background-color: #434B5C;\n",
              "      box-shadow: 0px 1px 3px 1px rgba(0, 0, 0, 0.15);\n",
              "      filter: drop-shadow(0px 1px 2px rgba(0, 0, 0, 0.3));\n",
              "      fill: #FFFFFF;\n",
              "    }\n",
              "  </style>\n",
              "\n",
              "      <script>\n",
              "        const buttonEl =\n",
              "          document.querySelector('#df-e10d9684-f598-4281-8e91-95b6f903ed0b button.colab-df-convert');\n",
              "        buttonEl.style.display =\n",
              "          google.colab.kernel.accessAllowed ? 'block' : 'none';\n",
              "\n",
              "        async function convertToInteractive(key) {\n",
              "          const element = document.querySelector('#df-e10d9684-f598-4281-8e91-95b6f903ed0b');\n",
              "          const dataTable =\n",
              "            await google.colab.kernel.invokeFunction('convertToInteractive',\n",
              "                                                     [key], {});\n",
              "          if (!dataTable) return;\n",
              "\n",
              "          const docLinkHtml = 'Like what you see? Visit the ' +\n",
              "            '<a target=\"_blank\" href=https://colab.research.google.com/notebooks/data_table.ipynb>data table notebook</a>'\n",
              "            + ' to learn more about interactive tables.';\n",
              "          element.innerHTML = '';\n",
              "          dataTable['output_type'] = 'display_data';\n",
              "          await google.colab.output.renderOutput(dataTable, element);\n",
              "          const docLink = document.createElement('div');\n",
              "          docLink.innerHTML = docLinkHtml;\n",
              "          element.appendChild(docLink);\n",
              "        }\n",
              "      </script>\n",
              "    </div>\n",
              "  </div>\n",
              "  "
            ]
          },
          "metadata": {},
          "execution_count": 35
        }
      ]
    },
    {
      "cell_type": "code",
      "source": [
        "dataframe.dtypes"
      ],
      "metadata": {
        "colab": {
          "base_uri": "https://localhost:8080/"
        },
        "id": "41VgxAMMZdWn",
        "outputId": "465ed18a-aceb-413e-ad30-04059fc812fc"
      },
      "execution_count": null,
      "outputs": [
        {
          "output_type": "execute_result",
          "data": {
            "text/plain": [
              "Ward              object\n",
              "Poll              object\n",
              "Poll Name         object\n",
              "Contest Title     object\n",
              "Candidate Name    object\n",
              "Total              int64\n",
              "dtype: object"
            ]
          },
          "metadata": {},
          "execution_count": 25
        }
      ]
    },
    {
      "cell_type": "code",
      "source": [
        "#the positions being contsted for\n",
        "dataframe['Contest Title'].value_counts()"
      ],
      "metadata": {
        "colab": {
          "base_uri": "https://localhost:8080/"
        },
        "id": "ksdlHd2ZZ2zM",
        "outputId": "34f89495-caf3-4aa9-b054-411160a9b860"
      },
      "execution_count": null,
      "outputs": [
        {
          "output_type": "execute_result",
          "data": {
            "text/plain": [
              "MAYOR                                                                                                            565\n",
              "TRUSTEE CONSEIL SCOLAIRE VIAMONDE CITY OF WINDSOR - WARDS 1-10 AND COUNTY OF ESSEX                               363\n",
              "TRUSTEE ENGLISH PUBLIC 3,4,10                                                                                    329\n",
              "TRUSTEE ENGLISH PUBLIC 5,6,7,8                                                                                   245\n",
              "TRUSTEE ENGLISH PUBLIC 1,2,9                                                                                     222\n",
              "COUNCILLOR WARD 10                                                                                               152\n",
              "COUNCILLOR WARD 8                                                                                                144\n",
              "COUNCILLOR WARD 5                                                                                                114\n",
              "TRUSTEE ENGLISH SEPARATE 3,4                                                                                     114\n",
              "COUNCILLOR WARD 1                                                                                                105\n",
              "TRUSTEE ENGLISH SEPARATE 1, 10                                                                                    90\n",
              "COUNCILLOR WARD 6                                                                                                 84\n",
              "COUNCILLOR WARD 7                                                                                                 84\n",
              "COUNCILLOR WARD 3                                                                                                 78\n",
              "TRUSTEE CONSEIL SCOLAIRE CATHOLIQUE PROVINDENCE CITY OF WINDSOR WARDS 6, 7 AND TOWN OF TECUMSEH WARDS 1, 2, 3     66\n",
              "TRUSTEE ENGLISH SEPARATE 6,7                                                                                      64\n",
              "TRUSTEE ENGLISH SEPARATE 5,8                                                                                      54\n",
              "TRUSTEE ENGLISH SEPARATE 2,9                                                                                      52\n",
              "COUNCILLOR WARD 9                                                                                                 48\n",
              "COUNCILLOR WARD 4                                                                                                 44\n",
              "COUNCILLOR WARD 2                                                                                                 40\n",
              "Name: Contest Title, dtype: int64"
            ]
          },
          "metadata": {},
          "execution_count": 28
        }
      ]
    },
    {
      "cell_type": "code",
      "source": [
        "#Picking out the rows that contain \"Mayor\" contestants\n",
        "df=dataframe[dataframe['Contest Title']=='MAYOR']\n"
      ],
      "metadata": {
        "id": "HgRU8sA2aaqp"
      },
      "execution_count": null,
      "outputs": []
    },
    {
      "cell_type": "code",
      "source": [
        "df[256:275]"
      ],
      "metadata": {
        "id": "nCAYBFThcWaD"
      },
      "execution_count": null,
      "outputs": []
    },
    {
      "cell_type": "code",
      "source": [
        "df.shape"
      ],
      "metadata": {
        "colab": {
          "base_uri": "https://localhost:8080/"
        },
        "id": "MI_eYa99b-I6",
        "outputId": "08649e2e-7b13-4295-fc1c-b3d51556f98b"
      },
      "execution_count": null,
      "outputs": [
        {
          "output_type": "execute_result",
          "data": {
            "text/plain": [
              "(565, 6)"
            ]
          },
          "metadata": {},
          "execution_count": 39
        }
      ]
    },
    {
      "cell_type": "code",
      "source": [
        "#list of Mayor contetsants\n",
        "pd.unique(df['Candidate Name'])"
      ],
      "metadata": {
        "colab": {
          "base_uri": "https://localhost:8080/"
        },
        "id": "97luMNdHdM3F",
        "outputId": "2aa68e1d-5639-4522-8329-07e8bf1052d2"
      },
      "execution_count": null,
      "outputs": [
        {
          "output_type": "execute_result",
          "data": {
            "text/plain": [
              "array(['Drew DILKENS', 'Ernie LAMONT', 'Franz (Frank) DYCK',\n",
              "       'Matt MARCHAND', 'Tom HENSEL'], dtype=object)"
            ]
          },
          "metadata": {},
          "execution_count": 49
        }
      ]
    },
    {
      "cell_type": "code",
      "source": [
        "#Grouping the candidates together with the votes they got!\n",
        "total_votes= df.groupby(['Candidate Name'])['Total'].sum().sort_values(ascending= False)\n",
        "print(total_votes)"
      ],
      "metadata": {
        "colab": {
          "base_uri": "https://localhost:8080/"
        },
        "id": "iBvwzlcAeGaY",
        "outputId": "66497a30-e782-4218-fe12-e226942df4bf"
      },
      "execution_count": null,
      "outputs": [
        {
          "output_type": "stream",
          "name": "stdout",
          "text": [
            "Candidate Name\n",
            "Drew DILKENS          31201\n",
            "Matt MARCHAND         18626\n",
            "Ernie LAMONT           1121\n",
            "Tom HENSEL              797\n",
            "Franz (Frank) DYCK      785\n",
            "Name: Total, dtype: int64\n"
          ]
        }
      ]
    },
    {
      "cell_type": "code",
      "source": [
        "total_votes.plot.bar(color='g')\n",
        "plt.ylabel('Total Votes')\n",
        "plt.title(e)"
      ],
      "metadata": {
        "colab": {
          "base_uri": "https://localhost:8080/",
          "height": 397
        },
        "id": "xcoeY7sbfoZc",
        "outputId": "ecfcd548-81e5-43eb-bec5-d2d67f6f499b"
      },
      "execution_count": null,
      "outputs": [
        {
          "output_type": "execute_result",
          "data": {
            "text/plain": [
              "Text(0.5, 1.0, 'Windsor City Election Results')"
            ]
          },
          "metadata": {},
          "execution_count": 53
        },
        {
          "output_type": "display_data",
          "data": {
            "text/plain": [
              "<Figure size 432x288 with 1 Axes>"
            ],
            "image/png": "[encoded data removed]"
          },
          "metadata": {
            "needs_background": "light"
          }
        }
      ]
    },
    {
      "cell_type": "code",
      "source": [],
      "metadata": {
        "id": "RDDlIgTUhMRI"
      },
      "execution_count": null,
      "outputs": []
    }
  ]
}