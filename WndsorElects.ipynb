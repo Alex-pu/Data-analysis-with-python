{
  "nbformat": 4,
  "nbformat_minor": 0,
  "metadata": {
    "colab": {
      "provenance": [],
      "authorship_tag": "ABX9TyMu1stA8EJNV49vutDdqDl5",
      "include_colab_link": true
    },
    "kernelspec": {
      "name": "python3",
      "display_name": "Python 3"
    },
    "language_info": {
      "name": "python"
    }
  },
  "cells": [
    {
      "cell_type": "markdown",
      "metadata": {
        "id": "view-in-github",
        "colab_type": "text"
      },
      "source": [
        "<a href=\"https://colab.research.google.com/github/Alex-pu/Data-analysis-with-python/blob/More_on_windsor/WndsorElects.ipynb\" target=\"_parent\"><img src=\"https://colab.research.google.com/assets/colab-badge.svg\" alt=\"Open In Colab\"/></a>"
      ]
    },
    {
      "cell_type": "code",
      "execution_count": 3,
      "metadata": {
        "id": "MtYCE7OeS4yL"
      },
      "outputs": [],
      "source": [
        "#defining in python\n",
        "c= 3\n",
        "d=7.9\n",
        "e=\"Windsor City Election Results\"\n",
        "f= True\n",
        "g= 2023-1-16"
      ]
    },
    {
      "cell_type": "code",
      "source": [
        "#changing date to date type(not automatic in python)\n",
        "import datetime\n",
        "g =datetime.datetime(2023,1,16)\n",
        "type(e)\n"
      ],
      "metadata": {
        "colab": {
          "base_uri": "https://localhost:8080/"
        },
        "id": "BkFFS4qrTKFV",
        "outputId": "ba96fa0a-ffed-42d7-c286-60b6a3b78bcd"
      },
      "execution_count": 4,
      "outputs": [
        {
          "output_type": "execute_result",
          "data": {
            "text/plain": [
              "str"
            ]
          },
          "metadata": {},
          "execution_count": 4
        }
      ]
    },
    {
      "cell_type": "code",
      "source": [
        "print(g)"
      ],
      "metadata": {
        "colab": {
          "base_uri": "https://localhost:8080/"
        },
        "id": "Rotxk8-YVExF",
        "outputId": "92067ab8-7266-4487-f02c-2bd35017cdd8"
      },
      "execution_count": 5,
      "outputs": [
        {
          "output_type": "stream",
          "name": "stdout",
          "text": [
            "2023-01-16 00:00:00\n"
          ]
        }
      ]
    },
    {
      "cell_type": "code",
      "source": [
        "#important libraries used in this program\n",
        "import pandas as pd\n",
        "import numpy as np\n",
        "import matplotlib.pyplot as plt\n",
        "%matplotlib inline"
      ],
      "metadata": {
        "id": "GyeeVeBCVl0E"
      },
      "execution_count": 60,
      "outputs": []
    },
    {
      "cell_type": "markdown",
      "source": [
        "**importinf files to the nootebook(jupyter,colab)**"
      ],
      "metadata": {
        "id": "SxMj8MSZgbtd"
      }
    },
    {
      "cell_type": "markdown",
      "source": [
        "**Results. Who won the windsor**"
      ],
      "metadata": {
        "id": "o4sCcCL_VmWl"
      }
    },
    {
      "cell_type": "code",
      "source": [
        "dataframe= pd.read_csv('https://opendata.citywindsor.ca/Uploads/detailedresults-2018.csv', encoding='unicode_escape')\n"
      ],
      "metadata": {
        "id": "UXcbm5myW0oQ"
      },
      "execution_count": 7,
      "outputs": []
    },
    {
      "cell_type": "code",
      "source": [
        "#name of the dataframe\n",
        "type(dataframe)"
      ],
      "metadata": {
        "colab": {
          "base_uri": "https://localhost:8080/"
        },
        "id": "DuO6m8SRYdH-",
        "outputId": "4645211d-1cad-4065-c2cf-f25bca1afb20"
      },
      "execution_count": 8,
      "outputs": [
        {
          "output_type": "execute_result",
          "data": {
            "text/plain": [
              "pandas.core.frame.DataFrame"
            ]
          },
          "metadata": {},
          "execution_count": 8
        }
      ]
    },
    {
      "cell_type": "code",
      "source": [
        "#size\n",
        "dataframe.shape"
      ],
      "metadata": {
        "colab": {
          "base_uri": "https://localhost:8080/"
        },
        "id": "aGjuXY0oY871",
        "outputId": "395ed8d3-64fb-43c3-c7df-e0eda7e8bdb9"
      },
      "execution_count": 9,
      "outputs": [
        {
          "output_type": "execute_result",
          "data": {
            "text/plain": [
              "(3057, 6)"
            ]
          },
          "metadata": {},
          "execution_count": 9
        }
      ]
    },
    {
      "cell_type": "code",
      "source": [
        "#a rough vie of the data(remeber its 3057 rows), so the first ten rows.Python indexng strats at 0\n",
        "dataframe.head(10)"
      ],
      "metadata": {
        "colab": {
          "base_uri": "https://localhost:8080/",
          "height": 363
        },
        "id": "naA8dRTlZBbm",
        "outputId": "a9405da2-3e96-4ea7-9fda-d79ff164b5cf"
      },
      "execution_count": 10,
      "outputs": [
        {
          "output_type": "execute_result",
          "data": {
            "text/plain": [
              "  Ward Poll                                          Poll Name Contest Title  \\\n",
              "0    1    1  1-1 Harvest Bible Chapel (formerly Southwood C...         MAYOR   \n",
              "1    1    1  1-1 Harvest Bible Chapel (formerly Southwood C...         MAYOR   \n",
              "2    1    1  1-1 Harvest Bible Chapel (formerly Southwood C...         MAYOR   \n",
              "3    1    1  1-1 Harvest Bible Chapel (formerly Southwood C...         MAYOR   \n",
              "4    1    1  1-1 Harvest Bible Chapel (formerly Southwood C...         MAYOR   \n",
              "5    1    2  1-2 Capri Pizzeria Recreational Complex (forme...         MAYOR   \n",
              "6    1    2  1-2 Capri Pizzeria Recreational Complex (forme...         MAYOR   \n",
              "7    1    2  1-2 Capri Pizzeria Recreational Complex (forme...         MAYOR   \n",
              "8    1    2  1-2 Capri Pizzeria Recreational Complex (forme...         MAYOR   \n",
              "9    1    2  1-2 Capri Pizzeria Recreational Complex (forme...         MAYOR   \n",
              "\n",
              "       Candidate Name  Total  \n",
              "0        Drew DILKENS    312  \n",
              "1        Ernie LAMONT      9  \n",
              "2  Franz (Frank) DYCK     10  \n",
              "3       Matt MARCHAND    159  \n",
              "4          Tom HENSEL      7  \n",
              "5        Drew DILKENS    458  \n",
              "6        Ernie LAMONT      8  \n",
              "7  Franz (Frank) DYCK      9  \n",
              "8       Matt MARCHAND    205  \n",
              "9          Tom HENSEL      2  "
            ],
            "text/html": [
              "\n",
              "  <div id=\"df-63dbd162-335a-4710-bc6a-3176f927f553\">\n",
              "    <div class=\"colab-df-container\">\n",
              "      <div>\n",
              "<style scoped>\n",
              "    .dataframe tbody tr th:only-of-type {\n",
              "        vertical-align: middle;\n",
              "    }\n",
              "\n",
              "    .dataframe tbody tr th {\n",
              "        vertical-align: top;\n",
              "    }\n",
              "\n",
              "    .dataframe thead th {\n",
              "        text-align: right;\n",
              "    }\n",
              "</style>\n",
              "<table border=\"1\" class=\"dataframe\">\n",
              "  <thead>\n",
              "    <tr style=\"text-align: right;\">\n",
              "      <th></th>\n",
              "      <th>Ward</th>\n",
              "      <th>Poll</th>\n",
              "      <th>Poll Name</th>\n",
              "      <th>Contest Title</th>\n",
              "      <th>Candidate Name</th>\n",
              "      <th>Total</th>\n",
              "    </tr>\n",
              "  </thead>\n",
              "  <tbody>\n",
              "    <tr>\n",
              "      <th>0</th>\n",
              "      <td>1</td>\n",
              "      <td>1</td>\n",
              "      <td>1-1 Harvest Bible Chapel (formerly Southwood C...</td>\n",
              "      <td>MAYOR</td>\n",
              "      <td>Drew DILKENS</td>\n",
              "      <td>312</td>\n",
              "    </tr>\n",
              "    <tr>\n",
              "      <th>1</th>\n",
              "      <td>1</td>\n",
              "      <td>1</td>\n",
              "      <td>1-1 Harvest Bible Chapel (formerly Southwood C...</td>\n",
              "      <td>MAYOR</td>\n",
              "      <td>Ernie LAMONT</td>\n",
              "      <td>9</td>\n",
              "    </tr>\n",
              "    <tr>\n",
              "      <th>2</th>\n",
              "      <td>1</td>\n",
              "      <td>1</td>\n",
              "      <td>1-1 Harvest Bible Chapel (formerly Southwood C...</td>\n",
              "      <td>MAYOR</td>\n",
              "      <td>Franz (Frank) DYCK</td>\n",
              "      <td>10</td>\n",
              "    </tr>\n",
              "    <tr>\n",
              "      <th>3</th>\n",
              "      <td>1</td>\n",
              "      <td>1</td>\n",
              "      <td>1-1 Harvest Bible Chapel (formerly Southwood C...</td>\n",
              "      <td>MAYOR</td>\n",
              "      <td>Matt MARCHAND</td>\n",
              "      <td>159</td>\n",
              "    </tr>\n",
              "    <tr>\n",
              "      <th>4</th>\n",
              "      <td>1</td>\n",
              "      <td>1</td>\n",
              "      <td>1-1 Harvest Bible Chapel (formerly Southwood C...</td>\n",
              "      <td>MAYOR</td>\n",
              "      <td>Tom HENSEL</td>\n",
              "      <td>7</td>\n",
              "    </tr>\n",
              "    <tr>\n",
              "      <th>5</th>\n",
              "      <td>1</td>\n",
              "      <td>2</td>\n",
              "      <td>1-2 Capri Pizzeria Recreational Complex (forme...</td>\n",
              "      <td>MAYOR</td>\n",
              "      <td>Drew DILKENS</td>\n",
              "      <td>458</td>\n",
              "    </tr>\n",
              "    <tr>\n",
              "      <th>6</th>\n",
              "      <td>1</td>\n",
              "      <td>2</td>\n",
              "      <td>1-2 Capri Pizzeria Recreational Complex (forme...</td>\n",
              "      <td>MAYOR</td>\n",
              "      <td>Ernie LAMONT</td>\n",
              "      <td>8</td>\n",
              "    </tr>\n",
              "    <tr>\n",
              "      <th>7</th>\n",
              "      <td>1</td>\n",
              "      <td>2</td>\n",
              "      <td>1-2 Capri Pizzeria Recreational Complex (forme...</td>\n",
              "      <td>MAYOR</td>\n",
              "      <td>Franz (Frank) DYCK</td>\n",
              "      <td>9</td>\n",
              "    </tr>\n",
              "    <tr>\n",
              "      <th>8</th>\n",
              "      <td>1</td>\n",
              "      <td>2</td>\n",
              "      <td>1-2 Capri Pizzeria Recreational Complex (forme...</td>\n",
              "      <td>MAYOR</td>\n",
              "      <td>Matt MARCHAND</td>\n",
              "      <td>205</td>\n",
              "    </tr>\n",
              "    <tr>\n",
              "      <th>9</th>\n",
              "      <td>1</td>\n",
              "      <td>2</td>\n",
              "      <td>1-2 Capri Pizzeria Recreational Complex (forme...</td>\n",
              "      <td>MAYOR</td>\n",
              "      <td>Tom HENSEL</td>\n",
              "      <td>2</td>\n",
              "    </tr>\n",
              "  </tbody>\n",
              "</table>\n",
              "</div>\n",
              "      <button class=\"colab-df-convert\" onclick=\"convertToInteractive('df-63dbd162-335a-4710-bc6a-3176f927f553')\"\n",
              "              title=\"Convert this dataframe to an interactive table.\"\n",
              "              style=\"display:none;\">\n",
              "        \n",
              "  <svg xmlns=\"http://www.w3.org/2000/svg\" height=\"24px\"viewBox=\"0 0 24 24\"\n",
              "       width=\"24px\">\n",
              "    <path d=\"M0 0h24v24H0V0z\" fill=\"none\"/>\n",
              "    <path d=\"M18.56 5.44l.94 2.06.94-2.06 2.06-.94-2.06-.94-.94-2.06-.94 2.06-2.06.94zm-11 1L8.5 8.5l.94-2.06 2.06-.94-2.06-.94L8.5 2.5l-.94 2.06-2.06.94zm10 10l.94 2.06.94-2.06 2.06-.94-2.06-.94-.94-2.06-.94 2.06-2.06.94z\"/><path d=\"M17.41 7.96l-1.37-1.37c-.4-.4-.92-.59-1.43-.59-.52 0-1.04.2-1.43.59L10.3 9.45l-7.72 7.72c-.78.78-.78 2.05 0 2.83L4 21.41c.39.39.9.59 1.41.59.51 0 1.02-.2 1.41-.59l7.78-7.78 2.81-2.81c.8-.78.8-2.07 0-2.86zM5.41 20L4 18.59l7.72-7.72 1.47 1.35L5.41 20z\"/>\n",
              "  </svg>\n",
              "      </button>\n",
              "      \n",
              "  <style>\n",
              "    .colab-df-container {\n",
              "      display:flex;\n",
              "      flex-wrap:wrap;\n",
              "      gap: 12px;\n",
              "    }\n",
              "\n",
              "    .colab-df-convert {\n",
              "      background-color: #E8F0FE;\n",
              "      border: none;\n",
              "      border-radius: 50%;\n",
              "      cursor: pointer;\n",
              "      display: none;\n",
              "      fill: #1967D2;\n",
              "      height: 32px;\n",
              "      padding: 0 0 0 0;\n",
              "      width: 32px;\n",
              "    }\n",
              "\n",
              "    .colab-df-convert:hover {\n",
              "      background-color: #E2EBFA;\n",
              "      box-shadow: 0px 1px 2px rgba(60, 64, 67, 0.3), 0px 1px 3px 1px rgba(60, 64, 67, 0.15);\n",
              "      fill: #174EA6;\n",
              "    }\n",
              "\n",
              "    [theme=dark] .colab-df-convert {\n",
              "      background-color: #3B4455;\n",
              "      fill: #D2E3FC;\n",
              "    }\n",
              "\n",
              "    [theme=dark] .colab-df-convert:hover {\n",
              "      background-color: #434B5C;\n",
              "      box-shadow: 0px 1px 3px 1px rgba(0, 0, 0, 0.15);\n",
              "      filter: drop-shadow(0px 1px 2px rgba(0, 0, 0, 0.3));\n",
              "      fill: #FFFFFF;\n",
              "    }\n",
              "  </style>\n",
              "\n",
              "      <script>\n",
              "        const buttonEl =\n",
              "          document.querySelector('#df-63dbd162-335a-4710-bc6a-3176f927f553 button.colab-df-convert');\n",
              "        buttonEl.style.display =\n",
              "          google.colab.kernel.accessAllowed ? 'block' : 'none';\n",
              "\n",
              "        async function convertToInteractive(key) {\n",
              "          const element = document.querySelector('#df-63dbd162-335a-4710-bc6a-3176f927f553');\n",
              "          const dataTable =\n",
              "            await google.colab.kernel.invokeFunction('convertToInteractive',\n",
              "                                                     [key], {});\n",
              "          if (!dataTable) return;\n",
              "\n",
              "          const docLinkHtml = 'Like what you see? Visit the ' +\n",
              "            '<a target=\"_blank\" href=https://colab.research.google.com/notebooks/data_table.ipynb>data table notebook</a>'\n",
              "            + ' to learn more about interactive tables.';\n",
              "          element.innerHTML = '';\n",
              "          dataTable['output_type'] = 'display_data';\n",
              "          await google.colab.output.renderOutput(dataTable, element);\n",
              "          const docLink = document.createElement('div');\n",
              "          docLink.innerHTML = docLinkHtml;\n",
              "          element.appendChild(docLink);\n",
              "        }\n",
              "      </script>\n",
              "    </div>\n",
              "  </div>\n",
              "  "
            ]
          },
          "metadata": {},
          "execution_count": 10
        }
      ]
    },
    {
      "cell_type": "code",
      "source": [
        "dataframe.dtypes"
      ],
      "metadata": {
        "colab": {
          "base_uri": "https://localhost:8080/"
        },
        "id": "41VgxAMMZdWn",
        "outputId": "b76b98c5-342f-4e79-e649-fb046918d716"
      },
      "execution_count": 11,
      "outputs": [
        {
          "output_type": "execute_result",
          "data": {
            "text/plain": [
              "Ward              object\n",
              "Poll              object\n",
              "Poll Name         object\n",
              "Contest Title     object\n",
              "Candidate Name    object\n",
              "Total              int64\n",
              "dtype: object"
            ]
          },
          "metadata": {},
          "execution_count": 11
        }
      ]
    },
    {
      "cell_type": "code",
      "source": [
        "#the positions being contsted for\n",
        "dataframe['Contest Title'].value_counts()"
      ],
      "metadata": {
        "colab": {
          "base_uri": "https://localhost:8080/"
        },
        "id": "ksdlHd2ZZ2zM",
        "outputId": "351c02a3-d318-46b3-8e2d-fb97447d7414"
      },
      "execution_count": 12,
      "outputs": [
        {
          "output_type": "execute_result",
          "data": {
            "text/plain": [
              "MAYOR                                                                                                            565\n",
              "TRUSTEE CONSEIL SCOLAIRE VIAMONDE CITY OF WINDSOR - WARDS 1-10 AND COUNTY OF ESSEX                               363\n",
              "TRUSTEE ENGLISH PUBLIC 3,4,10                                                                                    329\n",
              "TRUSTEE ENGLISH PUBLIC 5,6,7,8                                                                                   245\n",
              "TRUSTEE ENGLISH PUBLIC 1,2,9                                                                                     222\n",
              "COUNCILLOR WARD 10                                                                                               152\n",
              "COUNCILLOR WARD 8                                                                                                144\n",
              "COUNCILLOR WARD 5                                                                                                114\n",
              "TRUSTEE ENGLISH SEPARATE 3,4                                                                                     114\n",
              "COUNCILLOR WARD 1                                                                                                105\n",
              "TRUSTEE ENGLISH SEPARATE 1, 10                                                                                    90\n",
              "COUNCILLOR WARD 6                                                                                                 84\n",
              "COUNCILLOR WARD 7                                                                                                 84\n",
              "COUNCILLOR WARD 3                                                                                                 78\n",
              "TRUSTEE CONSEIL SCOLAIRE CATHOLIQUE PROVINDENCE CITY OF WINDSOR WARDS 6, 7 AND TOWN OF TECUMSEH WARDS 1, 2, 3     66\n",
              "TRUSTEE ENGLISH SEPARATE 6,7                                                                                      64\n",
              "TRUSTEE ENGLISH SEPARATE 5,8                                                                                      54\n",
              "TRUSTEE ENGLISH SEPARATE 2,9                                                                                      52\n",
              "COUNCILLOR WARD 9                                                                                                 48\n",
              "COUNCILLOR WARD 4                                                                                                 44\n",
              "COUNCILLOR WARD 2                                                                                                 40\n",
              "Name: Contest Title, dtype: int64"
            ]
          },
          "metadata": {},
          "execution_count": 12
        }
      ]
    },
    {
      "cell_type": "code",
      "source": [
        "#Picking out the rows that contain \"Mayor\" contestants\n",
        "df=dataframe[dataframe['Contest Title']=='MAYOR']\n"
      ],
      "metadata": {
        "id": "HgRU8sA2aaqp"
      },
      "execution_count": 13,
      "outputs": []
    },
    {
      "cell_type": "code",
      "source": [
        "df[256:275]"
      ],
      "metadata": {
        "id": "nCAYBFThcWaD",
        "colab": {
          "base_uri": "https://localhost:8080/",
          "height": 645
        },
        "outputId": "9a9a343e-588a-4050-d3ec-7f10bf6c238d"
      },
      "execution_count": 14,
      "outputs": [
        {
          "output_type": "execute_result",
          "data": {
            "text/plain": [
              "    Ward Poll                                          Poll Name  \\\n",
              "256    5    3                        5-3 Seminole Public Library   \n",
              "257    5    3                        5-3 Seminole Public Library   \n",
              "258    5    3                        5-3 Seminole Public Library   \n",
              "259    5    3                        5-3 Seminole Public Library   \n",
              "260    5    4                     5-4 Most Precious Blood Parish   \n",
              "261    5    4                     5-4 Most Precious Blood Parish   \n",
              "262    5    4                     5-4 Most Precious Blood Parish   \n",
              "263    5    4                     5-4 Most Precious Blood Parish   \n",
              "264    5    4                     5-4 Most Precious Blood Parish   \n",
              "265    5    5  5-5 Constable John Atkinson Memorial Community...   \n",
              "266    5    5  5-5 Constable John Atkinson Memorial Community...   \n",
              "267    5    5  5-5 Constable John Atkinson Memorial Community...   \n",
              "268    5    5  5-5 Constable John Atkinson Memorial Community...   \n",
              "269    5    5  5-5 Constable John Atkinson Memorial Community...   \n",
              "270    5    6                              5-6 St. Jerome Parish   \n",
              "271    5    6                              5-6 St. Jerome Parish   \n",
              "272    5    6                              5-6 St. Jerome Parish   \n",
              "273    5    6                              5-6 St. Jerome Parish   \n",
              "274    5    6                              5-6 St. Jerome Parish   \n",
              "\n",
              "    Contest Title      Candidate Name  Total  \n",
              "256         MAYOR        Ernie LAMONT     11  \n",
              "257         MAYOR  Franz (Frank) DYCK      8  \n",
              "258         MAYOR       Matt MARCHAND    171  \n",
              "259         MAYOR          Tom HENSEL      9  \n",
              "260         MAYOR        Drew DILKENS    322  \n",
              "261         MAYOR        Ernie LAMONT     24  \n",
              "262         MAYOR  Franz (Frank) DYCK      4  \n",
              "263         MAYOR       Matt MARCHAND    227  \n",
              "264         MAYOR          Tom HENSEL      0  \n",
              "265         MAYOR        Drew DILKENS    471  \n",
              "266         MAYOR        Ernie LAMONT     20  \n",
              "267         MAYOR  Franz (Frank) DYCK     11  \n",
              "268         MAYOR       Matt MARCHAND    332  \n",
              "269         MAYOR          Tom HENSEL     10  \n",
              "270         MAYOR        Drew DILKENS    300  \n",
              "271         MAYOR        Ernie LAMONT     17  \n",
              "272         MAYOR  Franz (Frank) DYCK      4  \n",
              "273         MAYOR       Matt MARCHAND    201  \n",
              "274         MAYOR          Tom HENSEL     10  "
            ],
            "text/html": [
              "\n",
              "  <div id=\"df-e2b48de1-bdf9-4976-bb6f-00c3f7739760\">\n",
              "    <div class=\"colab-df-container\">\n",
              "      <div>\n",
              "<style scoped>\n",
              "    .dataframe tbody tr th:only-of-type {\n",
              "        vertical-align: middle;\n",
              "    }\n",
              "\n",
              "    .dataframe tbody tr th {\n",
              "        vertical-align: top;\n",
              "    }\n",
              "\n",
              "    .dataframe thead th {\n",
              "        text-align: right;\n",
              "    }\n",
              "</style>\n",
              "<table border=\"1\" class=\"dataframe\">\n",
              "  <thead>\n",
              "    <tr style=\"text-align: right;\">\n",
              "      <th></th>\n",
              "      <th>Ward</th>\n",
              "      <th>Poll</th>\n",
              "      <th>Poll Name</th>\n",
              "      <th>Contest Title</th>\n",
              "      <th>Candidate Name</th>\n",
              "      <th>Total</th>\n",
              "    </tr>\n",
              "  </thead>\n",
              "  <tbody>\n",
              "    <tr>\n",
              "      <th>256</th>\n",
              "      <td>5</td>\n",
              "      <td>3</td>\n",
              "      <td>5-3 Seminole Public Library</td>\n",
              "      <td>MAYOR</td>\n",
              "      <td>Ernie LAMONT</td>\n",
              "      <td>11</td>\n",
              "    </tr>\n",
              "    <tr>\n",
              "      <th>257</th>\n",
              "      <td>5</td>\n",
              "      <td>3</td>\n",
              "      <td>5-3 Seminole Public Library</td>\n",
              "      <td>MAYOR</td>\n",
              "      <td>Franz (Frank) DYCK</td>\n",
              "      <td>8</td>\n",
              "    </tr>\n",
              "    <tr>\n",
              "      <th>258</th>\n",
              "      <td>5</td>\n",
              "      <td>3</td>\n",
              "      <td>5-3 Seminole Public Library</td>\n",
              "      <td>MAYOR</td>\n",
              "      <td>Matt MARCHAND</td>\n",
              "      <td>171</td>\n",
              "    </tr>\n",
              "    <tr>\n",
              "      <th>259</th>\n",
              "      <td>5</td>\n",
              "      <td>3</td>\n",
              "      <td>5-3 Seminole Public Library</td>\n",
              "      <td>MAYOR</td>\n",
              "      <td>Tom HENSEL</td>\n",
              "      <td>9</td>\n",
              "    </tr>\n",
              "    <tr>\n",
              "      <th>260</th>\n",
              "      <td>5</td>\n",
              "      <td>4</td>\n",
              "      <td>5-4 Most Precious Blood Parish</td>\n",
              "      <td>MAYOR</td>\n",
              "      <td>Drew DILKENS</td>\n",
              "      <td>322</td>\n",
              "    </tr>\n",
              "    <tr>\n",
              "      <th>261</th>\n",
              "      <td>5</td>\n",
              "      <td>4</td>\n",
              "      <td>5-4 Most Precious Blood Parish</td>\n",
              "      <td>MAYOR</td>\n",
              "      <td>Ernie LAMONT</td>\n",
              "      <td>24</td>\n",
              "    </tr>\n",
              "    <tr>\n",
              "      <th>262</th>\n",
              "      <td>5</td>\n",
              "      <td>4</td>\n",
              "      <td>5-4 Most Precious Blood Parish</td>\n",
              "      <td>MAYOR</td>\n",
              "      <td>Franz (Frank) DYCK</td>\n",
              "      <td>4</td>\n",
              "    </tr>\n",
              "    <tr>\n",
              "      <th>263</th>\n",
              "      <td>5</td>\n",
              "      <td>4</td>\n",
              "      <td>5-4 Most Precious Blood Parish</td>\n",
              "      <td>MAYOR</td>\n",
              "      <td>Matt MARCHAND</td>\n",
              "      <td>227</td>\n",
              "    </tr>\n",
              "    <tr>\n",
              "      <th>264</th>\n",
              "      <td>5</td>\n",
              "      <td>4</td>\n",
              "      <td>5-4 Most Precious Blood Parish</td>\n",
              "      <td>MAYOR</td>\n",
              "      <td>Tom HENSEL</td>\n",
              "      <td>0</td>\n",
              "    </tr>\n",
              "    <tr>\n",
              "      <th>265</th>\n",
              "      <td>5</td>\n",
              "      <td>5</td>\n",
              "      <td>5-5 Constable John Atkinson Memorial Community...</td>\n",
              "      <td>MAYOR</td>\n",
              "      <td>Drew DILKENS</td>\n",
              "      <td>471</td>\n",
              "    </tr>\n",
              "    <tr>\n",
              "      <th>266</th>\n",
              "      <td>5</td>\n",
              "      <td>5</td>\n",
              "      <td>5-5 Constable John Atkinson Memorial Community...</td>\n",
              "      <td>MAYOR</td>\n",
              "      <td>Ernie LAMONT</td>\n",
              "      <td>20</td>\n",
              "    </tr>\n",
              "    <tr>\n",
              "      <th>267</th>\n",
              "      <td>5</td>\n",
              "      <td>5</td>\n",
              "      <td>5-5 Constable John Atkinson Memorial Community...</td>\n",
              "      <td>MAYOR</td>\n",
              "      <td>Franz (Frank) DYCK</td>\n",
              "      <td>11</td>\n",
              "    </tr>\n",
              "    <tr>\n",
              "      <th>268</th>\n",
              "      <td>5</td>\n",
              "      <td>5</td>\n",
              "      <td>5-5 Constable John Atkinson Memorial Community...</td>\n",
              "      <td>MAYOR</td>\n",
              "      <td>Matt MARCHAND</td>\n",
              "      <td>332</td>\n",
              "    </tr>\n",
              "    <tr>\n",
              "      <th>269</th>\n",
              "      <td>5</td>\n",
              "      <td>5</td>\n",
              "      <td>5-5 Constable John Atkinson Memorial Community...</td>\n",
              "      <td>MAYOR</td>\n",
              "      <td>Tom HENSEL</td>\n",
              "      <td>10</td>\n",
              "    </tr>\n",
              "    <tr>\n",
              "      <th>270</th>\n",
              "      <td>5</td>\n",
              "      <td>6</td>\n",
              "      <td>5-6 St. Jerome Parish</td>\n",
              "      <td>MAYOR</td>\n",
              "      <td>Drew DILKENS</td>\n",
              "      <td>300</td>\n",
              "    </tr>\n",
              "    <tr>\n",
              "      <th>271</th>\n",
              "      <td>5</td>\n",
              "      <td>6</td>\n",
              "      <td>5-6 St. Jerome Parish</td>\n",
              "      <td>MAYOR</td>\n",
              "      <td>Ernie LAMONT</td>\n",
              "      <td>17</td>\n",
              "    </tr>\n",
              "    <tr>\n",
              "      <th>272</th>\n",
              "      <td>5</td>\n",
              "      <td>6</td>\n",
              "      <td>5-6 St. Jerome Parish</td>\n",
              "      <td>MAYOR</td>\n",
              "      <td>Franz (Frank) DYCK</td>\n",
              "      <td>4</td>\n",
              "    </tr>\n",
              "    <tr>\n",
              "      <th>273</th>\n",
              "      <td>5</td>\n",
              "      <td>6</td>\n",
              "      <td>5-6 St. Jerome Parish</td>\n",
              "      <td>MAYOR</td>\n",
              "      <td>Matt MARCHAND</td>\n",
              "      <td>201</td>\n",
              "    </tr>\n",
              "    <tr>\n",
              "      <th>274</th>\n",
              "      <td>5</td>\n",
              "      <td>6</td>\n",
              "      <td>5-6 St. Jerome Parish</td>\n",
              "      <td>MAYOR</td>\n",
              "      <td>Tom HENSEL</td>\n",
              "      <td>10</td>\n",
              "    </tr>\n",
              "  </tbody>\n",
              "</table>\n",
              "</div>\n",
              "      <button class=\"colab-df-convert\" onclick=\"convertToInteractive('df-e2b48de1-bdf9-4976-bb6f-00c3f7739760')\"\n",
              "              title=\"Convert this dataframe to an interactive table.\"\n",
              "              style=\"display:none;\">\n",
              "        \n",
              "  <svg xmlns=\"http://www.w3.org/2000/svg\" height=\"24px\"viewBox=\"0 0 24 24\"\n",
              "       width=\"24px\">\n",
              "    <path d=\"M0 0h24v24H0V0z\" fill=\"none\"/>\n",
              "    <path d=\"M18.56 5.44l.94 2.06.94-2.06 2.06-.94-2.06-.94-.94-2.06-.94 2.06-2.06.94zm-11 1L8.5 8.5l.94-2.06 2.06-.94-2.06-.94L8.5 2.5l-.94 2.06-2.06.94zm10 10l.94 2.06.94-2.06 2.06-.94-2.06-.94-.94-2.06-.94 2.06-2.06.94z\"/><path d=\"M17.41 7.96l-1.37-1.37c-.4-.4-.92-.59-1.43-.59-.52 0-1.04.2-1.43.59L10.3 9.45l-7.72 7.72c-.78.78-.78 2.05 0 2.83L4 21.41c.39.39.9.59 1.41.59.51 0 1.02-.2 1.41-.59l7.78-7.78 2.81-2.81c.8-.78.8-2.07 0-2.86zM5.41 20L4 18.59l7.72-7.72 1.47 1.35L5.41 20z\"/>\n",
              "  </svg>\n",
              "      </button>\n",
              "      \n",
              "  <style>\n",
              "    .colab-df-container {\n",
              "      display:flex;\n",
              "      flex-wrap:wrap;\n",
              "      gap: 12px;\n",
              "    }\n",
              "\n",
              "    .colab-df-convert {\n",
              "      background-color: #E8F0FE;\n",
              "      border: none;\n",
              "      border-radius: 50%;\n",
              "      cursor: pointer;\n",
              "      display: none;\n",
              "      fill: #1967D2;\n",
              "      height: 32px;\n",
              "      padding: 0 0 0 0;\n",
              "      width: 32px;\n",
              "    }\n",
              "\n",
              "    .colab-df-convert:hover {\n",
              "      background-color: #E2EBFA;\n",
              "      box-shadow: 0px 1px 2px rgba(60, 64, 67, 0.3), 0px 1px 3px 1px rgba(60, 64, 67, 0.15);\n",
              "      fill: #174EA6;\n",
              "    }\n",
              "\n",
              "    [theme=dark] .colab-df-convert {\n",
              "      background-color: #3B4455;\n",
              "      fill: #D2E3FC;\n",
              "    }\n",
              "\n",
              "    [theme=dark] .colab-df-convert:hover {\n",
              "      background-color: #434B5C;\n",
              "      box-shadow: 0px 1px 3px 1px rgba(0, 0, 0, 0.15);\n",
              "      filter: drop-shadow(0px 1px 2px rgba(0, 0, 0, 0.3));\n",
              "      fill: #FFFFFF;\n",
              "    }\n",
              "  </style>\n",
              "\n",
              "      <script>\n",
              "        const buttonEl =\n",
              "          document.querySelector('#df-e2b48de1-bdf9-4976-bb6f-00c3f7739760 button.colab-df-convert');\n",
              "        buttonEl.style.display =\n",
              "          google.colab.kernel.accessAllowed ? 'block' : 'none';\n",
              "\n",
              "        async function convertToInteractive(key) {\n",
              "          const element = document.querySelector('#df-e2b48de1-bdf9-4976-bb6f-00c3f7739760');\n",
              "          const dataTable =\n",
              "            await google.colab.kernel.invokeFunction('convertToInteractive',\n",
              "                                                     [key], {});\n",
              "          if (!dataTable) return;\n",
              "\n",
              "          const docLinkHtml = 'Like what you see? Visit the ' +\n",
              "            '<a target=\"_blank\" href=https://colab.research.google.com/notebooks/data_table.ipynb>data table notebook</a>'\n",
              "            + ' to learn more about interactive tables.';\n",
              "          element.innerHTML = '';\n",
              "          dataTable['output_type'] = 'display_data';\n",
              "          await google.colab.output.renderOutput(dataTable, element);\n",
              "          const docLink = document.createElement('div');\n",
              "          docLink.innerHTML = docLinkHtml;\n",
              "          element.appendChild(docLink);\n",
              "        }\n",
              "      </script>\n",
              "    </div>\n",
              "  </div>\n",
              "  "
            ]
          },
          "metadata": {},
          "execution_count": 14
        }
      ]
    },
    {
      "cell_type": "code",
      "source": [
        "df.shape"
      ],
      "metadata": {
        "colab": {
          "base_uri": "https://localhost:8080/"
        },
        "id": "MI_eYa99b-I6",
        "outputId": "0a85e669-3ee9-4e82-e838-eb7d1f352f2b"
      },
      "execution_count": 15,
      "outputs": [
        {
          "output_type": "execute_result",
          "data": {
            "text/plain": [
              "(565, 6)"
            ]
          },
          "metadata": {},
          "execution_count": 15
        }
      ]
    },
    {
      "cell_type": "code",
      "source": [
        "#list of Mayor contetsants\n",
        "pd.unique(df['Candidate Name'])"
      ],
      "metadata": {
        "colab": {
          "base_uri": "https://localhost:8080/"
        },
        "id": "97luMNdHdM3F",
        "outputId": "8dd5422a-d3ea-4c8a-e77a-6ce52ca355da"
      },
      "execution_count": 16,
      "outputs": [
        {
          "output_type": "execute_result",
          "data": {
            "text/plain": [
              "array(['Drew DILKENS', 'Ernie LAMONT', 'Franz (Frank) DYCK',\n",
              "       'Matt MARCHAND', 'Tom HENSEL'], dtype=object)"
            ]
          },
          "metadata": {},
          "execution_count": 16
        }
      ]
    },
    {
      "cell_type": "code",
      "source": [
        "#Grouping the candidates together with the votes they got!\n",
        "total_votes= df.groupby(['Candidate Name'])['Total'].sum().sort_values(ascending= False)\n",
        "print(total_votes)"
      ],
      "metadata": {
        "colab": {
          "base_uri": "https://localhost:8080/"
        },
        "id": "iBvwzlcAeGaY",
        "outputId": "c83bd78b-12ea-4697-abfb-e322d55a5494"
      },
      "execution_count": 17,
      "outputs": [
        {
          "output_type": "stream",
          "name": "stdout",
          "text": [
            "Candidate Name\n",
            "Drew DILKENS          31201\n",
            "Matt MARCHAND         18626\n",
            "Ernie LAMONT           1121\n",
            "Tom HENSEL              797\n",
            "Franz (Frank) DYCK      785\n",
            "Name: Total, dtype: int64\n"
          ]
        }
      ]
    },
    {
      "cell_type": "code",
      "source": [
        "total_votes.plot.bar(color='g')\n",
        "plt.ylabel('Total Votes')\n",
        "plt.title(e)"
      ],
      "metadata": {
        "colab": {
          "base_uri": "https://localhost:8080/",
          "height": 397
        },
        "id": "xcoeY7sbfoZc",
        "outputId": "2f210404-771f-422a-f84a-0d209bbc90a7"
      },
      "execution_count": 18,
      "outputs": [
        {
          "output_type": "execute_result",
          "data": {
            "text/plain": [
              "Text(0.5, 1.0, 'Windsor City Election Results')"
            ]
          },
          "metadata": {},
          "execution_count": 18
        },
        {
          "output_type": "display_data",
          "data": {
            "text/plain": [
              "<Figure size 432x288 with 1 Axes>"
            ],
            "image/png": "[encoded data removed]"
          },
          "metadata": {
            "needs_background": "light"
          }
        }
      ]
    },
    {
      "cell_type": "code",
      "source": [
        "df[20:30]"
      ],
      "metadata": {
        "id": "RDDlIgTUhMRI",
        "colab": {
          "base_uri": "https://localhost:8080/",
          "height": 363
        },
        "outputId": "3651e512-8787-46db-e0b0-93ff4cd8c8c5"
      },
      "execution_count": 20,
      "outputs": [
        {
          "output_type": "execute_result",
          "data": {
            "text/plain": [
              "   Ward Poll                                      Poll Name Contest Title  \\\n",
              "20    1    5             1-5 Roseland Golf and Curling Club         MAYOR   \n",
              "21    1    5             1-5 Roseland Golf and Curling Club         MAYOR   \n",
              "22    1    5             1-5 Roseland Golf and Curling Club         MAYOR   \n",
              "23    1    5             1-5 Roseland Golf and Curling Club         MAYOR   \n",
              "24    1    5             1-5 Roseland Golf and Curling Club         MAYOR   \n",
              "25    1    6  1-6 Academie Ste. Cecile International School         MAYOR   \n",
              "26    1    6  1-6 Academie Ste. Cecile International School         MAYOR   \n",
              "27    1    6  1-6 Academie Ste. Cecile International School         MAYOR   \n",
              "28    1    6  1-6 Academie Ste. Cecile International School         MAYOR   \n",
              "29    1    6  1-6 Academie Ste. Cecile International School         MAYOR   \n",
              "\n",
              "        Candidate Name  Total  \n",
              "20        Drew DILKENS    621  \n",
              "21        Ernie LAMONT     13  \n",
              "22  Franz (Frank) DYCK      8  \n",
              "23       Matt MARCHAND    254  \n",
              "24          Tom HENSEL      2  \n",
              "25        Drew DILKENS    459  \n",
              "26        Ernie LAMONT      8  \n",
              "27  Franz (Frank) DYCK      7  \n",
              "28       Matt MARCHAND    213  \n",
              "29          Tom HENSEL      1  "
            ],
            "text/html": [
              "\n",
              "  <div id=\"df-841c9fcc-7aee-4b5f-9a3a-2e4c2d50bcad\">\n",
              "    <div class=\"colab-df-container\">\n",
              "      <div>\n",
              "<style scoped>\n",
              "    .dataframe tbody tr th:only-of-type {\n",
              "        vertical-align: middle;\n",
              "    }\n",
              "\n",
              "    .dataframe tbody tr th {\n",
              "        vertical-align: top;\n",
              "    }\n",
              "\n",
              "    .dataframe thead th {\n",
              "        text-align: right;\n",
              "    }\n",
              "</style>\n",
              "<table border=\"1\" class=\"dataframe\">\n",
              "  <thead>\n",
              "    <tr style=\"text-align: right;\">\n",
              "      <th></th>\n",
              "      <th>Ward</th>\n",
              "      <th>Poll</th>\n",
              "      <th>Poll Name</th>\n",
              "      <th>Contest Title</th>\n",
              "      <th>Candidate Name</th>\n",
              "      <th>Total</th>\n",
              "    </tr>\n",
              "  </thead>\n",
              "  <tbody>\n",
              "    <tr>\n",
              "      <th>20</th>\n",
              "      <td>1</td>\n",
              "      <td>5</td>\n",
              "      <td>1-5 Roseland Golf and Curling Club</td>\n",
              "      <td>MAYOR</td>\n",
              "      <td>Drew DILKENS</td>\n",
              "      <td>621</td>\n",
              "    </tr>\n",
              "    <tr>\n",
              "      <th>21</th>\n",
              "      <td>1</td>\n",
              "      <td>5</td>\n",
              "      <td>1-5 Roseland Golf and Curling Club</td>\n",
              "      <td>MAYOR</td>\n",
              "      <td>Ernie LAMONT</td>\n",
              "      <td>13</td>\n",
              "    </tr>\n",
              "    <tr>\n",
              "      <th>22</th>\n",
              "      <td>1</td>\n",
              "      <td>5</td>\n",
              "      <td>1-5 Roseland Golf and Curling Club</td>\n",
              "      <td>MAYOR</td>\n",
              "      <td>Franz (Frank) DYCK</td>\n",
              "      <td>8</td>\n",
              "    </tr>\n",
              "    <tr>\n",
              "      <th>23</th>\n",
              "      <td>1</td>\n",
              "      <td>5</td>\n",
              "      <td>1-5 Roseland Golf and Curling Club</td>\n",
              "      <td>MAYOR</td>\n",
              "      <td>Matt MARCHAND</td>\n",
              "      <td>254</td>\n",
              "    </tr>\n",
              "    <tr>\n",
              "      <th>24</th>\n",
              "      <td>1</td>\n",
              "      <td>5</td>\n",
              "      <td>1-5 Roseland Golf and Curling Club</td>\n",
              "      <td>MAYOR</td>\n",
              "      <td>Tom HENSEL</td>\n",
              "      <td>2</td>\n",
              "    </tr>\n",
              "    <tr>\n",
              "      <th>25</th>\n",
              "      <td>1</td>\n",
              "      <td>6</td>\n",
              "      <td>1-6 Academie Ste. Cecile International School</td>\n",
              "      <td>MAYOR</td>\n",
              "      <td>Drew DILKENS</td>\n",
              "      <td>459</td>\n",
              "    </tr>\n",
              "    <tr>\n",
              "      <th>26</th>\n",
              "      <td>1</td>\n",
              "      <td>6</td>\n",
              "      <td>1-6 Academie Ste. Cecile International School</td>\n",
              "      <td>MAYOR</td>\n",
              "      <td>Ernie LAMONT</td>\n",
              "      <td>8</td>\n",
              "    </tr>\n",
              "    <tr>\n",
              "      <th>27</th>\n",
              "      <td>1</td>\n",
              "      <td>6</td>\n",
              "      <td>1-6 Academie Ste. Cecile International School</td>\n",
              "      <td>MAYOR</td>\n",
              "      <td>Franz (Frank) DYCK</td>\n",
              "      <td>7</td>\n",
              "    </tr>\n",
              "    <tr>\n",
              "      <th>28</th>\n",
              "      <td>1</td>\n",
              "      <td>6</td>\n",
              "      <td>1-6 Academie Ste. Cecile International School</td>\n",
              "      <td>MAYOR</td>\n",
              "      <td>Matt MARCHAND</td>\n",
              "      <td>213</td>\n",
              "    </tr>\n",
              "    <tr>\n",
              "      <th>29</th>\n",
              "      <td>1</td>\n",
              "      <td>6</td>\n",
              "      <td>1-6 Academie Ste. Cecile International School</td>\n",
              "      <td>MAYOR</td>\n",
              "      <td>Tom HENSEL</td>\n",
              "      <td>1</td>\n",
              "    </tr>\n",
              "  </tbody>\n",
              "</table>\n",
              "</div>\n",
              "      <button class=\"colab-df-convert\" onclick=\"convertToInteractive('df-841c9fcc-7aee-4b5f-9a3a-2e4c2d50bcad')\"\n",
              "              title=\"Convert this dataframe to an interactive table.\"\n",
              "              style=\"display:none;\">\n",
              "        \n",
              "  <svg xmlns=\"http://www.w3.org/2000/svg\" height=\"24px\"viewBox=\"0 0 24 24\"\n",
              "       width=\"24px\">\n",
              "    <path d=\"M0 0h24v24H0V0z\" fill=\"none\"/>\n",
              "    <path d=\"M18.56 5.44l.94 2.06.94-2.06 2.06-.94-2.06-.94-.94-2.06-.94 2.06-2.06.94zm-11 1L8.5 8.5l.94-2.06 2.06-.94-2.06-.94L8.5 2.5l-.94 2.06-2.06.94zm10 10l.94 2.06.94-2.06 2.06-.94-2.06-.94-.94-2.06-.94 2.06-2.06.94z\"/><path d=\"M17.41 7.96l-1.37-1.37c-.4-.4-.92-.59-1.43-.59-.52 0-1.04.2-1.43.59L10.3 9.45l-7.72 7.72c-.78.78-.78 2.05 0 2.83L4 21.41c.39.39.9.59 1.41.59.51 0 1.02-.2 1.41-.59l7.78-7.78 2.81-2.81c.8-.78.8-2.07 0-2.86zM5.41 20L4 18.59l7.72-7.72 1.47 1.35L5.41 20z\"/>\n",
              "  </svg>\n",
              "      </button>\n",
              "      \n",
              "  <style>\n",
              "    .colab-df-container {\n",
              "      display:flex;\n",
              "      flex-wrap:wrap;\n",
              "      gap: 12px;\n",
              "    }\n",
              "\n",
              "    .colab-df-convert {\n",
              "      background-color: #E8F0FE;\n",
              "      border: none;\n",
              "      border-radius: 50%;\n",
              "      cursor: pointer;\n",
              "      display: none;\n",
              "      fill: #1967D2;\n",
              "      height: 32px;\n",
              "      padding: 0 0 0 0;\n",
              "      width: 32px;\n",
              "    }\n",
              "\n",
              "    .colab-df-convert:hover {\n",
              "      background-color: #E2EBFA;\n",
              "      box-shadow: 0px 1px 2px rgba(60, 64, 67, 0.3), 0px 1px 3px 1px rgba(60, 64, 67, 0.15);\n",
              "      fill: #174EA6;\n",
              "    }\n",
              "\n",
              "    [theme=dark] .colab-df-convert {\n",
              "      background-color: #3B4455;\n",
              "      fill: #D2E3FC;\n",
              "    }\n",
              "\n",
              "    [theme=dark] .colab-df-convert:hover {\n",
              "      background-color: #434B5C;\n",
              "      box-shadow: 0px 1px 3px 1px rgba(0, 0, 0, 0.15);\n",
              "      filter: drop-shadow(0px 1px 2px rgba(0, 0, 0, 0.3));\n",
              "      fill: #FFFFFF;\n",
              "    }\n",
              "  </style>\n",
              "\n",
              "      <script>\n",
              "        const buttonEl =\n",
              "          document.querySelector('#df-841c9fcc-7aee-4b5f-9a3a-2e4c2d50bcad button.colab-df-convert');\n",
              "        buttonEl.style.display =\n",
              "          google.colab.kernel.accessAllowed ? 'block' : 'none';\n",
              "\n",
              "        async function convertToInteractive(key) {\n",
              "          const element = document.querySelector('#df-841c9fcc-7aee-4b5f-9a3a-2e4c2d50bcad');\n",
              "          const dataTable =\n",
              "            await google.colab.kernel.invokeFunction('convertToInteractive',\n",
              "                                                     [key], {});\n",
              "          if (!dataTable) return;\n",
              "\n",
              "          const docLinkHtml = 'Like what you see? Visit the ' +\n",
              "            '<a target=\"_blank\" href=https://colab.research.google.com/notebooks/data_table.ipynb>data table notebook</a>'\n",
              "            + ' to learn more about interactive tables.';\n",
              "          element.innerHTML = '';\n",
              "          dataTable['output_type'] = 'display_data';\n",
              "          await google.colab.output.renderOutput(dataTable, element);\n",
              "          const docLink = document.createElement('div');\n",
              "          docLink.innerHTML = docLinkHtml;\n",
              "          element.appendChild(docLink);\n",
              "        }\n",
              "      </script>\n",
              "    </div>\n",
              "  </div>\n",
              "  "
            ]
          },
          "metadata": {},
          "execution_count": 20
        }
      ]
    },
    {
      "cell_type": "code",
      "source": [
        "seats= pd.unique(dataframe['Contest Title'])\n",
        "print(seats)"
      ],
      "metadata": {
        "colab": {
          "base_uri": "https://localhost:8080/"
        },
        "id": "aUjyVOJsIW4S",
        "outputId": "cffe3d0b-73b5-4eea-e062-c8bfbed214a6"
      },
      "execution_count": 24,
      "outputs": [
        {
          "output_type": "stream",
          "name": "stdout",
          "text": [
            "['MAYOR' 'COUNCILLOR WARD 1' 'COUNCILLOR WARD 2' 'COUNCILLOR WARD 3'\n",
            " 'COUNCILLOR WARD 4' 'COUNCILLOR WARD 5' 'COUNCILLOR WARD 6'\n",
            " 'COUNCILLOR WARD 7' 'COUNCILLOR WARD 8' 'COUNCILLOR WARD 9'\n",
            " 'COUNCILLOR WARD 10' 'TRUSTEE ENGLISH PUBLIC 1,2,9'\n",
            " 'TRUSTEE ENGLISH PUBLIC 3,4,10' 'TRUSTEE ENGLISH PUBLIC 5,6,7,8'\n",
            " 'TRUSTEE ENGLISH SEPARATE 1, 10' 'TRUSTEE ENGLISH SEPARATE 2,9'\n",
            " 'TRUSTEE ENGLISH SEPARATE 3,4' 'TRUSTEE ENGLISH SEPARATE 5,8'\n",
            " 'TRUSTEE ENGLISH SEPARATE 6,7'\n",
            " 'TRUSTEE CONSEIL SCOLAIRE VIAMONDE CITY OF WINDSOR - WARDS 1-10 AND COUNTY OF ESSEX'\n",
            " 'TRUSTEE CONSEIL SCOLAIRE CATHOLIQUE PROVINDENCE CITY OF WINDSOR WARDS 6, 7 AND TOWN OF TECUMSEH WARDS 1, 2, 3']\n"
          ]
        }
      ]
    },
    {
      "cell_type": "markdown",
      "source": [
        "****councillor ward 5 contest****"
      ],
      "metadata": {
        "id": "DyslkEEaJG6B"
      }
    },
    {
      "cell_type": "code",
      "source": [
        "#overview\n",
        "ward5= dataframe[dataframe['Contest Title']=='COUNCILLOR WARD 5']\n",
        "ward5.head()"
      ],
      "metadata": {
        "colab": {
          "base_uri": "https://localhost:8080/",
          "height": 206
        },
        "id": "NOKVNNH7JRXn",
        "outputId": "9d1b856b-7b97-4922-9aa1-cb3af40a2c9f"
      },
      "execution_count": 29,
      "outputs": [
        {
          "output_type": "execute_result",
          "data": {
            "text/plain": [
              "    Ward Poll                                  Poll Name      Contest Title  \\\n",
              "832    5    1  5-1 Gino and Liz Marcus Community Complex  COUNCILLOR WARD 5   \n",
              "833    5    1  5-1 Gino and Liz Marcus Community Complex  COUNCILLOR WARD 5   \n",
              "834    5    1  5-1 Gino and Liz Marcus Community Complex  COUNCILLOR WARD 5   \n",
              "835    5    1  5-1 Gino and Liz Marcus Community Complex  COUNCILLOR WARD 5   \n",
              "836    5    1  5-1 Gino and Liz Marcus Community Complex  COUNCILLOR WARD 5   \n",
              "\n",
              "          Candidate Name  Total  \n",
              "832          Adam CASTLE     37  \n",
              "833           Ed SLEIMAN    107  \n",
              "834           Joe LUCIER      8  \n",
              "835          Joey WRIGHT     84  \n",
              "836  Lillian B. KRUZSELY     10  "
            ],
            "text/html": [
              "\n",
              "  <div id=\"df-daae1863-6a5d-4b1d-af0c-fa131d4bc557\">\n",
              "    <div class=\"colab-df-container\">\n",
              "      <div>\n",
              "<style scoped>\n",
              "    .dataframe tbody tr th:only-of-type {\n",
              "        vertical-align: middle;\n",
              "    }\n",
              "\n",
              "    .dataframe tbody tr th {\n",
              "        vertical-align: top;\n",
              "    }\n",
              "\n",
              "    .dataframe thead th {\n",
              "        text-align: right;\n",
              "    }\n",
              "</style>\n",
              "<table border=\"1\" class=\"dataframe\">\n",
              "  <thead>\n",
              "    <tr style=\"text-align: right;\">\n",
              "      <th></th>\n",
              "      <th>Ward</th>\n",
              "      <th>Poll</th>\n",
              "      <th>Poll Name</th>\n",
              "      <th>Contest Title</th>\n",
              "      <th>Candidate Name</th>\n",
              "      <th>Total</th>\n",
              "    </tr>\n",
              "  </thead>\n",
              "  <tbody>\n",
              "    <tr>\n",
              "      <th>832</th>\n",
              "      <td>5</td>\n",
              "      <td>1</td>\n",
              "      <td>5-1 Gino and Liz Marcus Community Complex</td>\n",
              "      <td>COUNCILLOR WARD 5</td>\n",
              "      <td>Adam CASTLE</td>\n",
              "      <td>37</td>\n",
              "    </tr>\n",
              "    <tr>\n",
              "      <th>833</th>\n",
              "      <td>5</td>\n",
              "      <td>1</td>\n",
              "      <td>5-1 Gino and Liz Marcus Community Complex</td>\n",
              "      <td>COUNCILLOR WARD 5</td>\n",
              "      <td>Ed SLEIMAN</td>\n",
              "      <td>107</td>\n",
              "    </tr>\n",
              "    <tr>\n",
              "      <th>834</th>\n",
              "      <td>5</td>\n",
              "      <td>1</td>\n",
              "      <td>5-1 Gino and Liz Marcus Community Complex</td>\n",
              "      <td>COUNCILLOR WARD 5</td>\n",
              "      <td>Joe LUCIER</td>\n",
              "      <td>8</td>\n",
              "    </tr>\n",
              "    <tr>\n",
              "      <th>835</th>\n",
              "      <td>5</td>\n",
              "      <td>1</td>\n",
              "      <td>5-1 Gino and Liz Marcus Community Complex</td>\n",
              "      <td>COUNCILLOR WARD 5</td>\n",
              "      <td>Joey WRIGHT</td>\n",
              "      <td>84</td>\n",
              "    </tr>\n",
              "    <tr>\n",
              "      <th>836</th>\n",
              "      <td>5</td>\n",
              "      <td>1</td>\n",
              "      <td>5-1 Gino and Liz Marcus Community Complex</td>\n",
              "      <td>COUNCILLOR WARD 5</td>\n",
              "      <td>Lillian B. KRUZSELY</td>\n",
              "      <td>10</td>\n",
              "    </tr>\n",
              "  </tbody>\n",
              "</table>\n",
              "</div>\n",
              "      <button class=\"colab-df-convert\" onclick=\"convertToInteractive('df-daae1863-6a5d-4b1d-af0c-fa131d4bc557')\"\n",
              "              title=\"Convert this dataframe to an interactive table.\"\n",
              "              style=\"display:none;\">\n",
              "        \n",
              "  <svg xmlns=\"http://www.w3.org/2000/svg\" height=\"24px\"viewBox=\"0 0 24 24\"\n",
              "       width=\"24px\">\n",
              "    <path d=\"M0 0h24v24H0V0z\" fill=\"none\"/>\n",
              "    <path d=\"M18.56 5.44l.94 2.06.94-2.06 2.06-.94-2.06-.94-.94-2.06-.94 2.06-2.06.94zm-11 1L8.5 8.5l.94-2.06 2.06-.94-2.06-.94L8.5 2.5l-.94 2.06-2.06.94zm10 10l.94 2.06.94-2.06 2.06-.94-2.06-.94-.94-2.06-.94 2.06-2.06.94z\"/><path d=\"M17.41 7.96l-1.37-1.37c-.4-.4-.92-.59-1.43-.59-.52 0-1.04.2-1.43.59L10.3 9.45l-7.72 7.72c-.78.78-.78 2.05 0 2.83L4 21.41c.39.39.9.59 1.41.59.51 0 1.02-.2 1.41-.59l7.78-7.78 2.81-2.81c.8-.78.8-2.07 0-2.86zM5.41 20L4 18.59l7.72-7.72 1.47 1.35L5.41 20z\"/>\n",
              "  </svg>\n",
              "      </button>\n",
              "      \n",
              "  <style>\n",
              "    .colab-df-container {\n",
              "      display:flex;\n",
              "      flex-wrap:wrap;\n",
              "      gap: 12px;\n",
              "    }\n",
              "\n",
              "    .colab-df-convert {\n",
              "      background-color: #E8F0FE;\n",
              "      border: none;\n",
              "      border-radius: 50%;\n",
              "      cursor: pointer;\n",
              "      display: none;\n",
              "      fill: #1967D2;\n",
              "      height: 32px;\n",
              "      padding: 0 0 0 0;\n",
              "      width: 32px;\n",
              "    }\n",
              "\n",
              "    .colab-df-convert:hover {\n",
              "      background-color: #E2EBFA;\n",
              "      box-shadow: 0px 1px 2px rgba(60, 64, 67, 0.3), 0px 1px 3px 1px rgba(60, 64, 67, 0.15);\n",
              "      fill: #174EA6;\n",
              "    }\n",
              "\n",
              "    [theme=dark] .colab-df-convert {\n",
              "      background-color: #3B4455;\n",
              "      fill: #D2E3FC;\n",
              "    }\n",
              "\n",
              "    [theme=dark] .colab-df-convert:hover {\n",
              "      background-color: #434B5C;\n",
              "      box-shadow: 0px 1px 3px 1px rgba(0, 0, 0, 0.15);\n",
              "      filter: drop-shadow(0px 1px 2px rgba(0, 0, 0, 0.3));\n",
              "      fill: #FFFFFF;\n",
              "    }\n",
              "  </style>\n",
              "\n",
              "      <script>\n",
              "        const buttonEl =\n",
              "          document.querySelector('#df-daae1863-6a5d-4b1d-af0c-fa131d4bc557 button.colab-df-convert');\n",
              "        buttonEl.style.display =\n",
              "          google.colab.kernel.accessAllowed ? 'block' : 'none';\n",
              "\n",
              "        async function convertToInteractive(key) {\n",
              "          const element = document.querySelector('#df-daae1863-6a5d-4b1d-af0c-fa131d4bc557');\n",
              "          const dataTable =\n",
              "            await google.colab.kernel.invokeFunction('convertToInteractive',\n",
              "                                                     [key], {});\n",
              "          if (!dataTable) return;\n",
              "\n",
              "          const docLinkHtml = 'Like what you see? Visit the ' +\n",
              "            '<a target=\"_blank\" href=https://colab.research.google.com/notebooks/data_table.ipynb>data table notebook</a>'\n",
              "            + ' to learn more about interactive tables.';\n",
              "          element.innerHTML = '';\n",
              "          dataTable['output_type'] = 'display_data';\n",
              "          await google.colab.output.renderOutput(dataTable, element);\n",
              "          const docLink = document.createElement('div');\n",
              "          docLink.innerHTML = docLinkHtml;\n",
              "          element.appendChild(docLink);\n",
              "        }\n",
              "      </script>\n",
              "    </div>\n",
              "  </div>\n",
              "  "
            ]
          },
          "metadata": {},
          "execution_count": 29
        }
      ]
    },
    {
      "cell_type": "markdown",
      "source": [
        "*polling stations*\n"
      ],
      "metadata": {
        "id": "f6pQQB2VKzHk"
      }
    },
    {
      "cell_type": "code",
      "source": [
        "polst=pd.unique(ward5['Poll Name'])\n",
        "print(polst)"
      ],
      "metadata": {
        "colab": {
          "base_uri": "https://localhost:8080/"
        },
        "id": "AWOoxYOMK86S",
        "outputId": "311dbe8a-dec2-4137-ca07-c85704b993d5"
      },
      "execution_count": 35,
      "outputs": [
        {
          "output_type": "stream",
          "name": "stdout",
          "text": [
            "['5-1 Gino and Liz Marcus Community Complex' '5-2 Lions Manor'\n",
            " '5-3 Seminole Public Library' '5-4 Most Precious Blood Parish'\n",
            " '5-5 Constable John Atkinson Memorial Community Centre'\n",
            " '5-6 St. Jerome Parish' '5-7 Parkwood Gospel Temple'\n",
            " '5-8 Lifetimes on Riverside' '5-9 The Shoreview at Riverside'\n",
            " 'ADVANCE POLL DAY 1 - 1' 'ADVANCE POLL DAY 1 - 2'\n",
            " 'ADVANCE POLL DAY 2 - 1' 'ADVANCE POLL DAY 2 - 2'\n",
            " 'ADVANCE POLL DAY 3 - 1' 'ADVANCE POLL DAY 3 - 2'\n",
            " 'ADVANCE POLL DAY 4 - 1' 'ADVANCE POLL DAY 4 - 2'\n",
            " 'ADVANCE POLL DAY 5 - 1' 'ADVANCE POLL DAY 5 - 2']\n"
          ]
        }
      ]
    },
    {
      "cell_type": "markdown",
      "source": [
        "***VOTE COUNT***"
      ],
      "metadata": {
        "id": "266JdSBeMOTS"
      }
    },
    {
      "cell_type": "code",
      "source": [
        "votecount= ward5.groupby(['Candidate Name'])['Total'].sum().sort_values(ascending=False)\n",
        "print(votecount)\n"
      ],
      "metadata": {
        "colab": {
          "base_uri": "https://localhost:8080/"
        },
        "id": "Qn6cBgMqMTkX",
        "outputId": "e54d4558-8f3c-4001-8dae-97eb3d124539"
      },
      "execution_count": 43,
      "outputs": [
        {
          "output_type": "stream",
          "name": "stdout",
          "text": [
            "Candidate Name\n",
            "Ed SLEIMAN             2294\n",
            "Joey WRIGHT            1341\n",
            "Adam CASTLE             391\n",
            "Lillian B. KRUZSELY     165\n",
            "Joe LUCIER              108\n",
            "Martin A. UTROSA         52\n",
            "Name: Total, dtype: int64\n"
          ]
        }
      ]
    },
    {
      "cell_type": "code",
      "source": [
        "votecount.max()"
      ],
      "metadata": {
        "colab": {
          "base_uri": "https://localhost:8080/"
        },
        "id": "XoAKF9YgNvfL",
        "outputId": "578ff350-a727-4163-9ab2-5c2efc5d5c74"
      },
      "execution_count": 44,
      "outputs": [
        {
          "output_type": "execute_result",
          "data": {
            "text/plain": [
              "2294"
            ]
          },
          "metadata": {},
          "execution_count": 44
        }
      ]
    },
    {
      "cell_type": "markdown",
      "source": [
        "**votes plot**"
      ],
      "metadata": {
        "id": "HKwsWW49OMU_"
      }
    },
    {
      "cell_type": "code",
      "source": [
        "labels=[\"ED\",\"Joey\",\"Adam\",\"lillian\",\"Joe\",\"Martin\"]\n",
        "y=np.array([2294,1341,391,165,108,52])"
      ],
      "metadata": {
        "id": "KrMtYHnVgmuN"
      },
      "execution_count": 83,
      "outputs": []
    },
    {
      "cell_type": "code",
      "source": [
        "explode=(0.2, 0,0,0,0,0)\n",
        "\n"
      ],
      "metadata": {
        "id": "n_6TuxAZaIKS"
      },
      "execution_count": 91,
      "outputs": []
    },
    {
      "cell_type": "code",
      "source": [
        "plt.pie(y,labels=labels,explode=explode,radius=2,startangle=90,shadow=True)\n",
        "plt.show()\n",
        "\n"
      ],
      "metadata": {
        "colab": {
          "base_uri": "https://localhost:8080/",
          "height": 406
        },
        "id": "JLi5Ln-COT04",
        "outputId": "8d0d905f-fd47-462d-9464-750496e3bacb"
      },
      "execution_count": 95,
      "outputs": [
        {
          "output_type": "display_data",
          "data": {
            "text/plain": [
              "<Figure size 432x288 with 1 Axes>"
            ],
            "image/png": "[encoded data removed]"
          },
          "metadata": {}
        }
      ]
    },
    {
      "cell_type": "code",
      "source": [
        "\n"
      ],
      "metadata": {
        "colab": {
          "base_uri": "https://localhost:8080/",
          "height": 219
        },
        "id": "J1WsIGaBcIq8",
        "outputId": "089bb2ee-0920-46a6-a598-fc426a469d16"
      },
      "execution_count": 81,
      "outputs": [
        {
          "output_type": "error",
          "ename": "TypeError",
          "evalue": "ignored",
          "traceback": [
            "\u001b[0;31m---------------------------------------------------------------------------\u001b[0m",
            "\u001b[0;31mTypeError\u001b[0m                                 Traceback (most recent call last)",
            "\u001b[0;32m<ipython-input-81-b3a4f9a3cc17>\u001b[0m in \u001b[0;36m<module>\u001b[0;34m\u001b[0m\n\u001b[0;32m----> 1\u001b[0;31m \u001b[0mfig\u001b[0m\u001b[0;34m,\u001b[0m \u001b[0max\u001b[0m \u001b[0;34m=\u001b[0m \u001b[0mplt\u001b[0m\u001b[0;34m.\u001b[0m\u001b[0mpie\u001b[0m\u001b[0;34m(\u001b[0m\u001b[0;34m)\u001b[0m\u001b[0;34m\u001b[0m\u001b[0;34m\u001b[0m\u001b[0m\n\u001b[0m\u001b[1;32m      2\u001b[0m ax.pie(sizes,\n\u001b[1;32m      3\u001b[0m        \u001b[0mexplode\u001b[0m\u001b[0;34m=\u001b[0m\u001b[0mexplode\u001b[0m\u001b[0;34m,\u001b[0m\u001b[0;34m\u001b[0m\u001b[0;34m\u001b[0m\u001b[0m\n\u001b[1;32m      4\u001b[0m        labels=Labels)\n",
            "\u001b[0;31mTypeError\u001b[0m: pie() missing 1 required positional argument: 'x'"
          ]
        }
      ]
    }
  ]
}