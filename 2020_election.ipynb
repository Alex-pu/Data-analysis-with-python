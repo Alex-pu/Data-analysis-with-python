{
  "nbformat": 4,
  "nbformat_minor": 0,
  "metadata": {
    "colab": {
      "provenance": [],
      "toc_visible": true,
      "authorship_tag": "ABX9TyPxKOxghhShy4PtAHw+4ZS9",
      "include_colab_link": true
    },
    "kernelspec": {
      "name": "python3",
      "display_name": "Python 3"
    },
    "language_info": {
      "name": "python"
    }
  },
  "cells": [
    {
      "cell_type": "markdown",
      "metadata": {
        "id": "view-in-github",
        "colab_type": "text"
      },
      "source": [
        "<a href=\"https://colab.research.google.com/github/Alex-pu/Data-analysis-with-python/blob/main/2020_election.ipynb\" target=\"_parent\"><img src=\"https://colab.research.google.com/assets/colab-badge.svg\" alt=\"Open In Colab\"/></a>"
      ]
    },
    {
      "cell_type": "code",
      "execution_count": 48,
      "metadata": {
        "id": "zZ4wyjvaV93j"
      },
      "outputs": [],
      "source": [
        "a=True\n",
        "b= 23/1/2023\n",
        "g='Total votes'\n",
        "d='Windsor by-eletions 2020'\n",
        "e= 7.9\n",
        "f= False"
      ]
    },
    {
      "cell_type": "code",
      "source": [],
      "metadata": {
        "id": "5_MSsTHjd4GP"
      },
      "execution_count": null,
      "outputs": []
    },
    {
      "cell_type": "code",
      "source": [],
      "metadata": {
        "id": "nLJNhCiwd6Mt"
      },
      "execution_count": null,
      "outputs": []
    },
    {
      "cell_type": "code",
      "source": [
        "import datetime\n",
        "b=datetime.datetime=(23,1,2023)"
      ],
      "metadata": {
        "id": "NrdSzNUccVeP"
      },
      "execution_count": 25,
      "outputs": []
    },
    {
      "cell_type": "code",
      "source": [
        "import pandas as pd\n",
        "import numpy as np\n",
        "import matplotlib.pyplot as plt"
      ],
      "metadata": {
        "id": "eUvWq08lW2fG"
      },
      "execution_count": 23,
      "outputs": []
    },
    {
      "cell_type": "markdown",
      "source": [
        "**Data Importation from open source site**"
      ],
      "metadata": {
        "id": "TFHoQVkXXVyu"
      }
    },
    {
      "cell_type": "code",
      "source": [
        "df= pd.read_csv(\"https://opendata.citywindsor.ca/Uploads/DetailedResults-2020.csv\", encoding='unicode_escape')"
      ],
      "metadata": {
        "id": "kcjttax0Xe72"
      },
      "execution_count": 7,
      "outputs": []
    },
    {
      "cell_type": "code",
      "source": [
        "df.head(9)"
      ],
      "metadata": {
        "colab": {
          "base_uri": "https://localhost:8080/",
          "height": 332
        },
        "id": "fQk4SZTtYLsA",
        "outputId": "796fcb73-26c1-4718-bd1b-11d3bb0044cc"
      },
      "execution_count": 10,
      "outputs": [
        {
          "output_type": "execute_result",
          "data": {
            "text/plain": [
              "  Ward Poll Poll Name      Contest Title    Candidate Name  Total\n",
              "0    7    1    WFCU 1  COUNCILLOR WARD 7       Albert SABA     74\n",
              "1    7    1    WFCU 1  COUNCILLOR WARD 7  Angelo MARIGNANI    259\n",
              "2    7    1    WFCU 1  COUNCILLOR WARD 7   Barbara HOLLAND    116\n",
              "3    7    1    WFCU 1  COUNCILLOR WARD 7      Ernie LAMONT     10\n",
              "4    7    1    WFCU 1  COUNCILLOR WARD 7     Farah EL-HAJJ     92\n",
              "5    7    1    WFCU 1  COUNCILLOR WARD 7        Greg LEMAY    232\n",
              "6    7    1    WFCU 1  COUNCILLOR WARD 7      Howard WEEKS     17\n",
              "7    7    1    WFCU 1  COUNCILLOR WARD 7        Igor DZAIC    141\n",
              "8    7    1    WFCU 1  COUNCILLOR WARD 7       Jeewen GILL    225"
            ],
            "text/html": [
              "\n",
              "  <div id=\"df-94ade8d5-d16d-4a66-96db-58be65a19e40\">\n",
              "    <div class=\"colab-df-container\">\n",
              "      <div>\n",
              "<style scoped>\n",
              "    .dataframe tbody tr th:only-of-type {\n",
              "        vertical-align: middle;\n",
              "    }\n",
              "\n",
              "    .dataframe tbody tr th {\n",
              "        vertical-align: top;\n",
              "    }\n",
              "\n",
              "    .dataframe thead th {\n",
              "        text-align: right;\n",
              "    }\n",
              "</style>\n",
              "<table border=\"1\" class=\"dataframe\">\n",
              "  <thead>\n",
              "    <tr style=\"text-align: right;\">\n",
              "      <th></th>\n",
              "      <th>Ward</th>\n",
              "      <th>Poll</th>\n",
              "      <th>Poll Name</th>\n",
              "      <th>Contest Title</th>\n",
              "      <th>Candidate Name</th>\n",
              "      <th>Total</th>\n",
              "    </tr>\n",
              "  </thead>\n",
              "  <tbody>\n",
              "    <tr>\n",
              "      <th>0</th>\n",
              "      <td>7</td>\n",
              "      <td>1</td>\n",
              "      <td>WFCU 1</td>\n",
              "      <td>COUNCILLOR WARD 7</td>\n",
              "      <td>Albert SABA</td>\n",
              "      <td>74</td>\n",
              "    </tr>\n",
              "    <tr>\n",
              "      <th>1</th>\n",
              "      <td>7</td>\n",
              "      <td>1</td>\n",
              "      <td>WFCU 1</td>\n",
              "      <td>COUNCILLOR WARD 7</td>\n",
              "      <td>Angelo MARIGNANI</td>\n",
              "      <td>259</td>\n",
              "    </tr>\n",
              "    <tr>\n",
              "      <th>2</th>\n",
              "      <td>7</td>\n",
              "      <td>1</td>\n",
              "      <td>WFCU 1</td>\n",
              "      <td>COUNCILLOR WARD 7</td>\n",
              "      <td>Barbara HOLLAND</td>\n",
              "      <td>116</td>\n",
              "    </tr>\n",
              "    <tr>\n",
              "      <th>3</th>\n",
              "      <td>7</td>\n",
              "      <td>1</td>\n",
              "      <td>WFCU 1</td>\n",
              "      <td>COUNCILLOR WARD 7</td>\n",
              "      <td>Ernie LAMONT</td>\n",
              "      <td>10</td>\n",
              "    </tr>\n",
              "    <tr>\n",
              "      <th>4</th>\n",
              "      <td>7</td>\n",
              "      <td>1</td>\n",
              "      <td>WFCU 1</td>\n",
              "      <td>COUNCILLOR WARD 7</td>\n",
              "      <td>Farah EL-HAJJ</td>\n",
              "      <td>92</td>\n",
              "    </tr>\n",
              "    <tr>\n",
              "      <th>5</th>\n",
              "      <td>7</td>\n",
              "      <td>1</td>\n",
              "      <td>WFCU 1</td>\n",
              "      <td>COUNCILLOR WARD 7</td>\n",
              "      <td>Greg LEMAY</td>\n",
              "      <td>232</td>\n",
              "    </tr>\n",
              "    <tr>\n",
              "      <th>6</th>\n",
              "      <td>7</td>\n",
              "      <td>1</td>\n",
              "      <td>WFCU 1</td>\n",
              "      <td>COUNCILLOR WARD 7</td>\n",
              "      <td>Howard WEEKS</td>\n",
              "      <td>17</td>\n",
              "    </tr>\n",
              "    <tr>\n",
              "      <th>7</th>\n",
              "      <td>7</td>\n",
              "      <td>1</td>\n",
              "      <td>WFCU 1</td>\n",
              "      <td>COUNCILLOR WARD 7</td>\n",
              "      <td>Igor DZAIC</td>\n",
              "      <td>141</td>\n",
              "    </tr>\n",
              "    <tr>\n",
              "      <th>8</th>\n",
              "      <td>7</td>\n",
              "      <td>1</td>\n",
              "      <td>WFCU 1</td>\n",
              "      <td>COUNCILLOR WARD 7</td>\n",
              "      <td>Jeewen GILL</td>\n",
              "      <td>225</td>\n",
              "    </tr>\n",
              "  </tbody>\n",
              "</table>\n",
              "</div>\n",
              "      <button class=\"colab-df-convert\" onclick=\"convertToInteractive('df-94ade8d5-d16d-4a66-96db-58be65a19e40')\"\n",
              "              title=\"Convert this dataframe to an interactive table.\"\n",
              "              style=\"display:none;\">\n",
              "        \n",
              "  <svg xmlns=\"http://www.w3.org/2000/svg\" height=\"24px\"viewBox=\"0 0 24 24\"\n",
              "       width=\"24px\">\n",
              "    <path d=\"M0 0h24v24H0V0z\" fill=\"none\"/>\n",
              "    <path d=\"M18.56 5.44l.94 2.06.94-2.06 2.06-.94-2.06-.94-.94-2.06-.94 2.06-2.06.94zm-11 1L8.5 8.5l.94-2.06 2.06-.94-2.06-.94L8.5 2.5l-.94 2.06-2.06.94zm10 10l.94 2.06.94-2.06 2.06-.94-2.06-.94-.94-2.06-.94 2.06-2.06.94z\"/><path d=\"M17.41 7.96l-1.37-1.37c-.4-.4-.92-.59-1.43-.59-.52 0-1.04.2-1.43.59L10.3 9.45l-7.72 7.72c-.78.78-.78 2.05 0 2.83L4 21.41c.39.39.9.59 1.41.59.51 0 1.02-.2 1.41-.59l7.78-7.78 2.81-2.81c.8-.78.8-2.07 0-2.86zM5.41 20L4 18.59l7.72-7.72 1.47 1.35L5.41 20z\"/>\n",
              "  </svg>\n",
              "      </button>\n",
              "      \n",
              "  <style>\n",
              "    .colab-df-container {\n",
              "      display:flex;\n",
              "      flex-wrap:wrap;\n",
              "      gap: 12px;\n",
              "    }\n",
              "\n",
              "    .colab-df-convert {\n",
              "      background-color: #E8F0FE;\n",
              "      border: none;\n",
              "      border-radius: 50%;\n",
              "      cursor: pointer;\n",
              "      display: none;\n",
              "      fill: #1967D2;\n",
              "      height: 32px;\n",
              "      padding: 0 0 0 0;\n",
              "      width: 32px;\n",
              "    }\n",
              "\n",
              "    .colab-df-convert:hover {\n",
              "      background-color: #E2EBFA;\n",
              "      box-shadow: 0px 1px 2px rgba(60, 64, 67, 0.3), 0px 1px 3px 1px rgba(60, 64, 67, 0.15);\n",
              "      fill: #174EA6;\n",
              "    }\n",
              "\n",
              "    [theme=dark] .colab-df-convert {\n",
              "      background-color: #3B4455;\n",
              "      fill: #D2E3FC;\n",
              "    }\n",
              "\n",
              "    [theme=dark] .colab-df-convert:hover {\n",
              "      background-color: #434B5C;\n",
              "      box-shadow: 0px 1px 3px 1px rgba(0, 0, 0, 0.15);\n",
              "      filter: drop-shadow(0px 1px 2px rgba(0, 0, 0, 0.3));\n",
              "      fill: #FFFFFF;\n",
              "    }\n",
              "  </style>\n",
              "\n",
              "      <script>\n",
              "        const buttonEl =\n",
              "          document.querySelector('#df-94ade8d5-d16d-4a66-96db-58be65a19e40 button.colab-df-convert');\n",
              "        buttonEl.style.display =\n",
              "          google.colab.kernel.accessAllowed ? 'block' : 'none';\n",
              "\n",
              "        async function convertToInteractive(key) {\n",
              "          const element = document.querySelector('#df-94ade8d5-d16d-4a66-96db-58be65a19e40');\n",
              "          const dataTable =\n",
              "            await google.colab.kernel.invokeFunction('convertToInteractive',\n",
              "                                                     [key], {});\n",
              "          if (!dataTable) return;\n",
              "\n",
              "          const docLinkHtml = 'Like what you see? Visit the ' +\n",
              "            '<a target=\"_blank\" href=https://colab.research.google.com/notebooks/data_table.ipynb>data table notebook</a>'\n",
              "            + ' to learn more about interactive tables.';\n",
              "          element.innerHTML = '';\n",
              "          dataTable['output_type'] = 'display_data';\n",
              "          await google.colab.output.renderOutput(dataTable, element);\n",
              "          const docLink = document.createElement('div');\n",
              "          docLink.innerHTML = docLinkHtml;\n",
              "          element.appendChild(docLink);\n",
              "        }\n",
              "      </script>\n",
              "    </div>\n",
              "  </div>\n",
              "  "
            ]
          },
          "metadata": {},
          "execution_count": 10
        }
      ]
    },
    {
      "cell_type": "code",
      "source": [
        "df.tail()"
      ],
      "metadata": {
        "colab": {
          "base_uri": "https://localhost:8080/",
          "height": 206
        },
        "id": "C4fQ_VgQY6AF",
        "outputId": "0156a0ab-1022-444c-c1a1-31d2e96c8963"
      },
      "execution_count": 11,
      "outputs": [
        {
          "output_type": "execute_result",
          "data": {
            "text/plain": [
              "    Ward Poll               Poll Name      Contest Title     Candidate Name  \\\n",
              "151   AP  4-2  ADVANCE POLL DAY 4 - 2  COUNCILLOR WARD 7         Igor DZAIC   \n",
              "152   AP  4-2  ADVANCE POLL DAY 4 - 2  COUNCILLOR WARD 7        Jeewen GILL   \n",
              "153   AP  4-2  ADVANCE POLL DAY 4 - 2  COUNCILLOR WARD 7     Michael MALOTT   \n",
              "154   AP  4-2  ADVANCE POLL DAY 4 - 2  COUNCILLOR WARD 7  Michelle GAJEWSKI   \n",
              "155   AP  4-2  ADVANCE POLL DAY 4 - 2  COUNCILLOR WARD 7   Thérèse PAPINEAU   \n",
              "\n",
              "     Total  \n",
              "151     45  \n",
              "152    170  \n",
              "153     63  \n",
              "154     35  \n",
              "155     24  "
            ],
            "text/html": [
              "\n",
              "  <div id=\"df-f390f80e-e9f3-4739-accd-8e127c8be625\">\n",
              "    <div class=\"colab-df-container\">\n",
              "      <div>\n",
              "<style scoped>\n",
              "    .dataframe tbody tr th:only-of-type {\n",
              "        vertical-align: middle;\n",
              "    }\n",
              "\n",
              "    .dataframe tbody tr th {\n",
              "        vertical-align: top;\n",
              "    }\n",
              "\n",
              "    .dataframe thead th {\n",
              "        text-align: right;\n",
              "    }\n",
              "</style>\n",
              "<table border=\"1\" class=\"dataframe\">\n",
              "  <thead>\n",
              "    <tr style=\"text-align: right;\">\n",
              "      <th></th>\n",
              "      <th>Ward</th>\n",
              "      <th>Poll</th>\n",
              "      <th>Poll Name</th>\n",
              "      <th>Contest Title</th>\n",
              "      <th>Candidate Name</th>\n",
              "      <th>Total</th>\n",
              "    </tr>\n",
              "  </thead>\n",
              "  <tbody>\n",
              "    <tr>\n",
              "      <th>151</th>\n",
              "      <td>AP</td>\n",
              "      <td>4-2</td>\n",
              "      <td>ADVANCE POLL DAY 4 - 2</td>\n",
              "      <td>COUNCILLOR WARD 7</td>\n",
              "      <td>Igor DZAIC</td>\n",
              "      <td>45</td>\n",
              "    </tr>\n",
              "    <tr>\n",
              "      <th>152</th>\n",
              "      <td>AP</td>\n",
              "      <td>4-2</td>\n",
              "      <td>ADVANCE POLL DAY 4 - 2</td>\n",
              "      <td>COUNCILLOR WARD 7</td>\n",
              "      <td>Jeewen GILL</td>\n",
              "      <td>170</td>\n",
              "    </tr>\n",
              "    <tr>\n",
              "      <th>153</th>\n",
              "      <td>AP</td>\n",
              "      <td>4-2</td>\n",
              "      <td>ADVANCE POLL DAY 4 - 2</td>\n",
              "      <td>COUNCILLOR WARD 7</td>\n",
              "      <td>Michael MALOTT</td>\n",
              "      <td>63</td>\n",
              "    </tr>\n",
              "    <tr>\n",
              "      <th>154</th>\n",
              "      <td>AP</td>\n",
              "      <td>4-2</td>\n",
              "      <td>ADVANCE POLL DAY 4 - 2</td>\n",
              "      <td>COUNCILLOR WARD 7</td>\n",
              "      <td>Michelle GAJEWSKI</td>\n",
              "      <td>35</td>\n",
              "    </tr>\n",
              "    <tr>\n",
              "      <th>155</th>\n",
              "      <td>AP</td>\n",
              "      <td>4-2</td>\n",
              "      <td>ADVANCE POLL DAY 4 - 2</td>\n",
              "      <td>COUNCILLOR WARD 7</td>\n",
              "      <td>Thérèse PAPINEAU</td>\n",
              "      <td>24</td>\n",
              "    </tr>\n",
              "  </tbody>\n",
              "</table>\n",
              "</div>\n",
              "      <button class=\"colab-df-convert\" onclick=\"convertToInteractive('df-f390f80e-e9f3-4739-accd-8e127c8be625')\"\n",
              "              title=\"Convert this dataframe to an interactive table.\"\n",
              "              style=\"display:none;\">\n",
              "        \n",
              "  <svg xmlns=\"http://www.w3.org/2000/svg\" height=\"24px\"viewBox=\"0 0 24 24\"\n",
              "       width=\"24px\">\n",
              "    <path d=\"M0 0h24v24H0V0z\" fill=\"none\"/>\n",
              "    <path d=\"M18.56 5.44l.94 2.06.94-2.06 2.06-.94-2.06-.94-.94-2.06-.94 2.06-2.06.94zm-11 1L8.5 8.5l.94-2.06 2.06-.94-2.06-.94L8.5 2.5l-.94 2.06-2.06.94zm10 10l.94 2.06.94-2.06 2.06-.94-2.06-.94-.94-2.06-.94 2.06-2.06.94z\"/><path d=\"M17.41 7.96l-1.37-1.37c-.4-.4-.92-.59-1.43-.59-.52 0-1.04.2-1.43.59L10.3 9.45l-7.72 7.72c-.78.78-.78 2.05 0 2.83L4 21.41c.39.39.9.59 1.41.59.51 0 1.02-.2 1.41-.59l7.78-7.78 2.81-2.81c.8-.78.8-2.07 0-2.86zM5.41 20L4 18.59l7.72-7.72 1.47 1.35L5.41 20z\"/>\n",
              "  </svg>\n",
              "      </button>\n",
              "      \n",
              "  <style>\n",
              "    .colab-df-container {\n",
              "      display:flex;\n",
              "      flex-wrap:wrap;\n",
              "      gap: 12px;\n",
              "    }\n",
              "\n",
              "    .colab-df-convert {\n",
              "      background-color: #E8F0FE;\n",
              "      border: none;\n",
              "      border-radius: 50%;\n",
              "      cursor: pointer;\n",
              "      display: none;\n",
              "      fill: #1967D2;\n",
              "      height: 32px;\n",
              "      padding: 0 0 0 0;\n",
              "      width: 32px;\n",
              "    }\n",
              "\n",
              "    .colab-df-convert:hover {\n",
              "      background-color: #E2EBFA;\n",
              "      box-shadow: 0px 1px 2px rgba(60, 64, 67, 0.3), 0px 1px 3px 1px rgba(60, 64, 67, 0.15);\n",
              "      fill: #174EA6;\n",
              "    }\n",
              "\n",
              "    [theme=dark] .colab-df-convert {\n",
              "      background-color: #3B4455;\n",
              "      fill: #D2E3FC;\n",
              "    }\n",
              "\n",
              "    [theme=dark] .colab-df-convert:hover {\n",
              "      background-color: #434B5C;\n",
              "      box-shadow: 0px 1px 3px 1px rgba(0, 0, 0, 0.15);\n",
              "      filter: drop-shadow(0px 1px 2px rgba(0, 0, 0, 0.3));\n",
              "      fill: #FFFFFF;\n",
              "    }\n",
              "  </style>\n",
              "\n",
              "      <script>\n",
              "        const buttonEl =\n",
              "          document.querySelector('#df-f390f80e-e9f3-4739-accd-8e127c8be625 button.colab-df-convert');\n",
              "        buttonEl.style.display =\n",
              "          google.colab.kernel.accessAllowed ? 'block' : 'none';\n",
              "\n",
              "        async function convertToInteractive(key) {\n",
              "          const element = document.querySelector('#df-f390f80e-e9f3-4739-accd-8e127c8be625');\n",
              "          const dataTable =\n",
              "            await google.colab.kernel.invokeFunction('convertToInteractive',\n",
              "                                                     [key], {});\n",
              "          if (!dataTable) return;\n",
              "\n",
              "          const docLinkHtml = 'Like what you see? Visit the ' +\n",
              "            '<a target=\"_blank\" href=https://colab.research.google.com/notebooks/data_table.ipynb>data table notebook</a>'\n",
              "            + ' to learn more about interactive tables.';\n",
              "          element.innerHTML = '';\n",
              "          dataTable['output_type'] = 'display_data';\n",
              "          await google.colab.output.renderOutput(dataTable, element);\n",
              "          const docLink = document.createElement('div');\n",
              "          docLink.innerHTML = docLinkHtml;\n",
              "          element.appendChild(docLink);\n",
              "        }\n",
              "      </script>\n",
              "    </div>\n",
              "  </div>\n",
              "  "
            ]
          },
          "metadata": {},
          "execution_count": 11
        }
      ]
    },
    {
      "cell_type": "markdown",
      "source": [
        "**contestants list**"
      ],
      "metadata": {
        "id": "74Jy6WC0Y-LG"
      }
    },
    {
      "cell_type": "code",
      "source": [
        "pd.unique(df['Candidate Name'])"
      ],
      "metadata": {
        "colab": {
          "base_uri": "https://localhost:8080/"
        },
        "id": "9fptIW-7Z49o",
        "outputId": "0bb668bd-5e33-4a5f-8223-1f0c162b2e2c"
      },
      "execution_count": 18,
      "outputs": [
        {
          "output_type": "execute_result",
          "data": {
            "text/plain": [
              "array(['Albert SABA', 'Angelo MARIGNANI', 'Barbara HOLLAND',\n",
              "       'Ernie LAMONT', 'Farah EL-HAJJ', 'Greg LEMAY', 'Howard WEEKS',\n",
              "       'Igor DZAIC', 'Jeewen GILL', 'Michael MALOTT', 'Michelle GAJEWSKI',\n",
              "       'Thérèse PAPINEAU'], dtype=object)"
            ]
          },
          "metadata": {},
          "execution_count": 18
        }
      ]
    },
    {
      "cell_type": "code",
      "source": [],
      "metadata": {
        "id": "I7IuXD4qafXP"
      },
      "execution_count": null,
      "outputs": []
    },
    {
      "cell_type": "markdown",
      "source": [
        "**All polling stations**"
      ],
      "metadata": {
        "id": "wLbNrlAbagPV"
      }
    },
    {
      "cell_type": "code",
      "source": [
        "pd.unique(df['Poll Name'])"
      ],
      "metadata": {
        "colab": {
          "base_uri": "https://localhost:8080/"
        },
        "id": "7wohYLPvamF2",
        "outputId": "632302dd-0ba1-46df-f9d0-ad7e2329dcc5"
      },
      "execution_count": 19,
      "outputs": [
        {
          "output_type": "execute_result",
          "data": {
            "text/plain": [
              "array(['WFCU 1', 'WFCU 2', '7-9 BANWELL GARDENS LONG TERM',\n",
              "       '7-10 HERON TERRACE LONG TERM C', '7-11 THE VILLAGE OF ASPEN LAKE',\n",
              "       'ADVANCE POLL DAY 1 - 1', 'ADVANCE POLL DAY 1 - 2',\n",
              "       'ADVANCE POLL DAY 2 - 1', 'ADVANCE POLL DAY 2 - 2',\n",
              "       'ADVANCE POLL DAY 3 - 1', 'ADVANCE POLL DAY 3 - 2',\n",
              "       'ADVANCE POLL DAY 4 - 1', 'ADVANCE POLL DAY 4 - 2'], dtype=object)"
            ]
          },
          "metadata": {},
          "execution_count": 19
        }
      ]
    },
    {
      "cell_type": "code",
      "source": [],
      "metadata": {
        "id": "BkougZuJbbqP"
      },
      "execution_count": null,
      "outputs": []
    },
    {
      "cell_type": "markdown",
      "source": [
        "****WHO TOOK IT HOME?****"
      ],
      "metadata": {
        "id": "bYOGlASubeke"
      }
    },
    {
      "cell_type": "code",
      "source": [
        "votecount= df.groupby(df['Candidate Name'])['Total'].sum().sort_values(ascending=False)\n",
        "print(votecount)"
      ],
      "metadata": {
        "colab": {
          "base_uri": "https://localhost:8080/"
        },
        "id": "ha9N-oTybl6V",
        "outputId": "c2139538-6195-4022-cb27-32a91b8f3ccf"
      },
      "execution_count": 29,
      "outputs": [
        {
          "output_type": "stream",
          "name": "stdout",
          "text": [
            "Candidate Name\n",
            "Jeewen GILL          1015\n",
            "Angelo MARIGNANI      879\n",
            "Greg LEMAY            781\n",
            "Barbara HOLLAND       426\n",
            "Michael MALOTT        404\n",
            "Igor DZAIC            396\n",
            "Michelle GAJEWSKI     378\n",
            "Thérèse PAPINEAU      311\n",
            "Farah EL-HAJJ         266\n",
            "Albert SABA           189\n",
            "Howard WEEKS           78\n",
            "Ernie LAMONT           33\n",
            "Name: Total, dtype: int64\n"
          ]
        }
      ]
    },
    {
      "cell_type": "code",
      "source": [
        "votecount.plot.bar(color='g')\n",
        "plt.title=(d)\n",
        "plt.ylable=(g)"
      ],
      "metadata": {
        "colab": {
          "base_uri": "https://localhost:8080/",
          "height": 365
        },
        "id": "FzcZ7ZfxuRBU",
        "outputId": "16b6b51d-928c-496c-fdca-e345aea88d2d"
      },
      "execution_count": 55,
      "outputs": [
        {
          "output_type": "display_data",
          "data": {
            "text/plain": [
              "<Figure size 432x288 with 1 Axes>"
            ],
            "image/png": "[encoded data removed]"
          },
          "metadata": {
            "needs_background": "light"
          }
        }
      ]
    }
  ]
}